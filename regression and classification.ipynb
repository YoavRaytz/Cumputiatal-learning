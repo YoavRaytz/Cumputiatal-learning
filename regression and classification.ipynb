{
 "cells": [
  {
   "cell_type": "code",
   "execution_count": 2,
   "metadata": {
    "colab": {},
    "colab_type": "code",
    "id": "nrTbPcGnQzrG"
   },
   "outputs": [],
   "source": [
    "import numpy as np\n",
    "from matplotlib import pyplot as plt\n",
    "import pandas as pd\n",
    "\n",
    "from sklearn.model_selection import train_test_split\n",
    "from sklearn.linear_model import LogisticRegression\n",
    "from sklearn.metrics import plot_confusion_matrix, roc_auc_score\n",
    "\n",
    "import warnings\n",
    "warnings.filterwarnings('ignore');"
   ]
  },
  {
   "cell_type": "code",
   "execution_count": 3,
   "metadata": {
    "colab": {},
    "colab_type": "code",
    "id": "1g0-tDfoQzrJ"
   },
   "outputs": [],
   "source": [
    "df = pd.read_csv('data1.csv', header=None) #Not consider first row as header\n",
    "columns = {\n",
    "        i: f'Feature {i+1}'\n",
    "        for i in range(len(df.columns))\n",
    "    }"
   ]
  },
  {
   "cell_type": "markdown",
   "metadata": {
    "colab_type": "text",
    "id": "nbeNQWgc_wd-"
   },
   "source": [
    "# Let's have a look on our dataset!"
   ]
  },
  {
   "cell_type": "code",
   "execution_count": 4,
   "metadata": {
    "colab": {
     "base_uri": "https://localhost:8080/"
    },
    "colab_type": "code",
    "id": "Gz0mqUuY_vQB",
    "outputId": "18ab51b7-9aec-40b0-b935-af3a271b38bf"
   },
   "outputs": [
    {
     "name": "stdout",
     "output_type": "stream",
     "text": [
      "The dataset have:\n",
      "Rows: 1000\n",
      "Columns: 60\n"
     ]
    },
    {
     "data": {
      "text/html": [
       "<div>\n",
       "<style scoped>\n",
       "    .dataframe tbody tr th:only-of-type {\n",
       "        vertical-align: middle;\n",
       "    }\n",
       "\n",
       "    .dataframe tbody tr th {\n",
       "        vertical-align: top;\n",
       "    }\n",
       "\n",
       "    .dataframe thead th {\n",
       "        text-align: right;\n",
       "    }\n",
       "</style>\n",
       "<table border=\"1\" class=\"dataframe\">\n",
       "  <thead>\n",
       "    <tr style=\"text-align: right;\">\n",
       "      <th></th>\n",
       "      <th>Feature 1</th>\n",
       "      <th>Feature 2</th>\n",
       "      <th>Feature 3</th>\n",
       "      <th>Feature 4</th>\n",
       "      <th>Feature 5</th>\n",
       "      <th>Feature 6</th>\n",
       "      <th>Feature 7</th>\n",
       "      <th>Feature 8</th>\n",
       "      <th>Feature 9</th>\n",
       "      <th>Feature 10</th>\n",
       "      <th>...</th>\n",
       "      <th>Feature 51</th>\n",
       "      <th>Feature 52</th>\n",
       "      <th>Feature 53</th>\n",
       "      <th>Feature 54</th>\n",
       "      <th>Feature 55</th>\n",
       "      <th>Feature 56</th>\n",
       "      <th>Feature 57</th>\n",
       "      <th>Feature 58</th>\n",
       "      <th>Feature 59</th>\n",
       "      <th>Feature 60</th>\n",
       "    </tr>\n",
       "  </thead>\n",
       "  <tbody>\n",
       "    <tr>\n",
       "      <th>0</th>\n",
       "      <td>109</td>\n",
       "      <td>0</td>\n",
       "      <td>1</td>\n",
       "      <td>7</td>\n",
       "      <td>9</td>\n",
       "      <td>0</td>\n",
       "      <td>5</td>\n",
       "      <td>8</td>\n",
       "      <td>6</td>\n",
       "      <td>0</td>\n",
       "      <td>...</td>\n",
       "      <td>3</td>\n",
       "      <td>0</td>\n",
       "      <td>11</td>\n",
       "      <td>0</td>\n",
       "      <td>0</td>\n",
       "      <td>0</td>\n",
       "      <td>0</td>\n",
       "      <td>1</td>\n",
       "      <td>18</td>\n",
       "      <td>1</td>\n",
       "    </tr>\n",
       "    <tr>\n",
       "      <th>1</th>\n",
       "      <td>309</td>\n",
       "      <td>21</td>\n",
       "      <td>4</td>\n",
       "      <td>1</td>\n",
       "      <td>19</td>\n",
       "      <td>1</td>\n",
       "      <td>4</td>\n",
       "      <td>35</td>\n",
       "      <td>23</td>\n",
       "      <td>0</td>\n",
       "      <td>...</td>\n",
       "      <td>10</td>\n",
       "      <td>0</td>\n",
       "      <td>13</td>\n",
       "      <td>0</td>\n",
       "      <td>14</td>\n",
       "      <td>9</td>\n",
       "      <td>1</td>\n",
       "      <td>1</td>\n",
       "      <td>14</td>\n",
       "      <td>1</td>\n",
       "    </tr>\n",
       "    <tr>\n",
       "      <th>2</th>\n",
       "      <td>149</td>\n",
       "      <td>6</td>\n",
       "      <td>1</td>\n",
       "      <td>8</td>\n",
       "      <td>14</td>\n",
       "      <td>0</td>\n",
       "      <td>5</td>\n",
       "      <td>15</td>\n",
       "      <td>11</td>\n",
       "      <td>0</td>\n",
       "      <td>...</td>\n",
       "      <td>2</td>\n",
       "      <td>0</td>\n",
       "      <td>8</td>\n",
       "      <td>0</td>\n",
       "      <td>3</td>\n",
       "      <td>2</td>\n",
       "      <td>1</td>\n",
       "      <td>1</td>\n",
       "      <td>18</td>\n",
       "      <td>1</td>\n",
       "    </tr>\n",
       "    <tr>\n",
       "      <th>3</th>\n",
       "      <td>305</td>\n",
       "      <td>18</td>\n",
       "      <td>5</td>\n",
       "      <td>7</td>\n",
       "      <td>26</td>\n",
       "      <td>0</td>\n",
       "      <td>10</td>\n",
       "      <td>37</td>\n",
       "      <td>21</td>\n",
       "      <td>1</td>\n",
       "      <td>...</td>\n",
       "      <td>8</td>\n",
       "      <td>3</td>\n",
       "      <td>13</td>\n",
       "      <td>1</td>\n",
       "      <td>7</td>\n",
       "      <td>1</td>\n",
       "      <td>1</td>\n",
       "      <td>1</td>\n",
       "      <td>20</td>\n",
       "      <td>1</td>\n",
       "    </tr>\n",
       "    <tr>\n",
       "      <th>4</th>\n",
       "      <td>491</td>\n",
       "      <td>23</td>\n",
       "      <td>8</td>\n",
       "      <td>33</td>\n",
       "      <td>47</td>\n",
       "      <td>0</td>\n",
       "      <td>12</td>\n",
       "      <td>61</td>\n",
       "      <td>36</td>\n",
       "      <td>0</td>\n",
       "      <td>...</td>\n",
       "      <td>16</td>\n",
       "      <td>2</td>\n",
       "      <td>34</td>\n",
       "      <td>1</td>\n",
       "      <td>5</td>\n",
       "      <td>6</td>\n",
       "      <td>1</td>\n",
       "      <td>1</td>\n",
       "      <td>24</td>\n",
       "      <td>1</td>\n",
       "    </tr>\n",
       "  </tbody>\n",
       "</table>\n",
       "<p>5 rows × 60 columns</p>\n",
       "</div>"
      ],
      "text/plain": [
       "   Feature 1  Feature 2  Feature 3  Feature 4  Feature 5  Feature 6  \\\n",
       "0        109          0          1          7          9          0   \n",
       "1        309         21          4          1         19          1   \n",
       "2        149          6          1          8         14          0   \n",
       "3        305         18          5          7         26          0   \n",
       "4        491         23          8         33         47          0   \n",
       "\n",
       "   Feature 7  Feature 8  Feature 9  Feature 10  ...  Feature 51  Feature 52  \\\n",
       "0          5          8          6           0  ...           3           0   \n",
       "1          4         35         23           0  ...          10           0   \n",
       "2          5         15         11           0  ...           2           0   \n",
       "3         10         37         21           1  ...           8           3   \n",
       "4         12         61         36           0  ...          16           2   \n",
       "\n",
       "   Feature 53  Feature 54  Feature 55  Feature 56  Feature 57  Feature 58  \\\n",
       "0          11           0           0           0           0           1   \n",
       "1          13           0          14           9           1           1   \n",
       "2           8           0           3           2           1           1   \n",
       "3          13           1           7           1           1           1   \n",
       "4          34           1           5           6           1           1   \n",
       "\n",
       "   Feature 59  Feature 60  \n",
       "0          18           1  \n",
       "1          14           1  \n",
       "2          18           1  \n",
       "3          20           1  \n",
       "4          24           1  \n",
       "\n",
       "[5 rows x 60 columns]"
      ]
     },
     "metadata": {},
     "output_type": "display_data"
    }
   ],
   "source": [
    "df.rename(columns=columns, inplace=True)\n",
    "print(f'The dataset have:\\nRows: {df.shape[0]}\\nColumns: {df.shape[1]}')\n",
    "display(df.head())\n"
   ]
  },
  {
   "cell_type": "markdown",
   "metadata": {
    "colab_type": "text",
    "id": "1apaiEFrAZia"
   },
   "source": [
    "# Now lets have a look on the statistics of the dataset"
   ]
  },
  {
   "cell_type": "code",
   "execution_count": 5,
   "metadata": {
    "colab": {
     "base_uri": "https://localhost:8080/"
    },
    "colab_type": "code",
    "id": "xBuMj4juAY5l",
    "outputId": "40b40ea1-574d-4d04-a6e6-356367a8de60"
   },
   "outputs": [
    {
     "data": {
      "text/html": [
       "<div>\n",
       "<style scoped>\n",
       "    .dataframe tbody tr th:only-of-type {\n",
       "        vertical-align: middle;\n",
       "    }\n",
       "\n",
       "    .dataframe tbody tr th {\n",
       "        vertical-align: top;\n",
       "    }\n",
       "\n",
       "    .dataframe thead th {\n",
       "        text-align: right;\n",
       "    }\n",
       "</style>\n",
       "<table border=\"1\" class=\"dataframe\">\n",
       "  <thead>\n",
       "    <tr style=\"text-align: right;\">\n",
       "      <th></th>\n",
       "      <th>Feature 1</th>\n",
       "      <th>Feature 2</th>\n",
       "      <th>Feature 3</th>\n",
       "      <th>Feature 4</th>\n",
       "      <th>Feature 5</th>\n",
       "      <th>Feature 6</th>\n",
       "      <th>Feature 7</th>\n",
       "      <th>Feature 8</th>\n",
       "      <th>Feature 9</th>\n",
       "      <th>Feature 10</th>\n",
       "      <th>...</th>\n",
       "      <th>Feature 51</th>\n",
       "      <th>Feature 52</th>\n",
       "      <th>Feature 53</th>\n",
       "      <th>Feature 54</th>\n",
       "      <th>Feature 55</th>\n",
       "      <th>Feature 56</th>\n",
       "      <th>Feature 57</th>\n",
       "      <th>Feature 58</th>\n",
       "      <th>Feature 59</th>\n",
       "      <th>Feature 60</th>\n",
       "    </tr>\n",
       "  </thead>\n",
       "  <tbody>\n",
       "    <tr>\n",
       "      <th>count</th>\n",
       "      <td>1000.000000</td>\n",
       "      <td>1000.000000</td>\n",
       "      <td>1000.000000</td>\n",
       "      <td>1000.000000</td>\n",
       "      <td>1000.000000</td>\n",
       "      <td>1000.000000</td>\n",
       "      <td>1000.000000</td>\n",
       "      <td>1000.000000</td>\n",
       "      <td>1000.000000</td>\n",
       "      <td>1000.000000</td>\n",
       "      <td>...</td>\n",
       "      <td>1000.000000</td>\n",
       "      <td>1000.000000</td>\n",
       "      <td>1000.000000</td>\n",
       "      <td>1000.000000</td>\n",
       "      <td>1000.000000</td>\n",
       "      <td>1000.000000</td>\n",
       "      <td>1000.000000</td>\n",
       "      <td>1000.000000</td>\n",
       "      <td>1000.000000</td>\n",
       "      <td>1000.000000</td>\n",
       "    </tr>\n",
       "    <tr>\n",
       "      <th>mean</th>\n",
       "      <td>697.120000</td>\n",
       "      <td>39.005000</td>\n",
       "      <td>13.934000</td>\n",
       "      <td>20.626000</td>\n",
       "      <td>66.452000</td>\n",
       "      <td>1.054000</td>\n",
       "      <td>11.477000</td>\n",
       "      <td>75.151000</td>\n",
       "      <td>47.432000</td>\n",
       "      <td>2.152000</td>\n",
       "      <td>...</td>\n",
       "      <td>19.187000</td>\n",
       "      <td>5.419000</td>\n",
       "      <td>29.942000</td>\n",
       "      <td>4.389000</td>\n",
       "      <td>17.124000</td>\n",
       "      <td>11.899000</td>\n",
       "      <td>0.927000</td>\n",
       "      <td>0.995000</td>\n",
       "      <td>19.142000</td>\n",
       "      <td>0.635000</td>\n",
       "    </tr>\n",
       "    <tr>\n",
       "      <th>std</th>\n",
       "      <td>523.340997</td>\n",
       "      <td>32.134835</td>\n",
       "      <td>13.617528</td>\n",
       "      <td>22.765773</td>\n",
       "      <td>52.045407</td>\n",
       "      <td>1.663084</td>\n",
       "      <td>12.690174</td>\n",
       "      <td>55.927293</td>\n",
       "      <td>38.373218</td>\n",
       "      <td>2.858158</td>\n",
       "      <td>...</td>\n",
       "      <td>16.756754</td>\n",
       "      <td>5.811989</td>\n",
       "      <td>25.226752</td>\n",
       "      <td>5.126008</td>\n",
       "      <td>17.811285</td>\n",
       "      <td>12.356354</td>\n",
       "      <td>0.260267</td>\n",
       "      <td>0.070569</td>\n",
       "      <td>6.632483</td>\n",
       "      <td>0.481671</td>\n",
       "    </tr>\n",
       "    <tr>\n",
       "      <th>min</th>\n",
       "      <td>47.000000</td>\n",
       "      <td>0.000000</td>\n",
       "      <td>0.000000</td>\n",
       "      <td>0.000000</td>\n",
       "      <td>0.000000</td>\n",
       "      <td>0.000000</td>\n",
       "      <td>0.000000</td>\n",
       "      <td>2.000000</td>\n",
       "      <td>2.000000</td>\n",
       "      <td>0.000000</td>\n",
       "      <td>...</td>\n",
       "      <td>0.000000</td>\n",
       "      <td>0.000000</td>\n",
       "      <td>0.000000</td>\n",
       "      <td>0.000000</td>\n",
       "      <td>0.000000</td>\n",
       "      <td>0.000000</td>\n",
       "      <td>0.000000</td>\n",
       "      <td>0.000000</td>\n",
       "      <td>5.000000</td>\n",
       "      <td>0.000000</td>\n",
       "    </tr>\n",
       "    <tr>\n",
       "      <th>25%</th>\n",
       "      <td>272.000000</td>\n",
       "      <td>13.000000</td>\n",
       "      <td>4.000000</td>\n",
       "      <td>7.000000</td>\n",
       "      <td>24.750000</td>\n",
       "      <td>0.000000</td>\n",
       "      <td>3.000000</td>\n",
       "      <td>31.750000</td>\n",
       "      <td>19.000000</td>\n",
       "      <td>0.000000</td>\n",
       "      <td>...</td>\n",
       "      <td>6.000000</td>\n",
       "      <td>1.000000</td>\n",
       "      <td>11.000000</td>\n",
       "      <td>1.000000</td>\n",
       "      <td>4.000000</td>\n",
       "      <td>3.000000</td>\n",
       "      <td>1.000000</td>\n",
       "      <td>1.000000</td>\n",
       "      <td>15.000000</td>\n",
       "      <td>0.000000</td>\n",
       "    </tr>\n",
       "    <tr>\n",
       "      <th>50%</th>\n",
       "      <td>626.000000</td>\n",
       "      <td>33.000000</td>\n",
       "      <td>10.000000</td>\n",
       "      <td>14.000000</td>\n",
       "      <td>58.000000</td>\n",
       "      <td>0.000000</td>\n",
       "      <td>8.000000</td>\n",
       "      <td>67.000000</td>\n",
       "      <td>40.000000</td>\n",
       "      <td>1.000000</td>\n",
       "      <td>...</td>\n",
       "      <td>14.000000</td>\n",
       "      <td>4.000000</td>\n",
       "      <td>24.000000</td>\n",
       "      <td>3.000000</td>\n",
       "      <td>11.000000</td>\n",
       "      <td>8.000000</td>\n",
       "      <td>1.000000</td>\n",
       "      <td>1.000000</td>\n",
       "      <td>18.000000</td>\n",
       "      <td>1.000000</td>\n",
       "    </tr>\n",
       "    <tr>\n",
       "      <th>75%</th>\n",
       "      <td>953.250000</td>\n",
       "      <td>56.000000</td>\n",
       "      <td>20.250000</td>\n",
       "      <td>26.250000</td>\n",
       "      <td>93.000000</td>\n",
       "      <td>1.000000</td>\n",
       "      <td>15.000000</td>\n",
       "      <td>103.000000</td>\n",
       "      <td>65.000000</td>\n",
       "      <td>3.000000</td>\n",
       "      <td>...</td>\n",
       "      <td>29.000000</td>\n",
       "      <td>8.000000</td>\n",
       "      <td>44.000000</td>\n",
       "      <td>7.000000</td>\n",
       "      <td>25.000000</td>\n",
       "      <td>18.000000</td>\n",
       "      <td>1.000000</td>\n",
       "      <td>1.000000</td>\n",
       "      <td>22.000000</td>\n",
       "      <td>1.000000</td>\n",
       "    </tr>\n",
       "    <tr>\n",
       "      <th>max</th>\n",
       "      <td>4283.000000</td>\n",
       "      <td>237.000000</td>\n",
       "      <td>97.000000</td>\n",
       "      <td>225.000000</td>\n",
       "      <td>471.000000</td>\n",
       "      <td>12.000000</td>\n",
       "      <td>96.000000</td>\n",
       "      <td>473.000000</td>\n",
       "      <td>354.000000</td>\n",
       "      <td>26.000000</td>\n",
       "      <td>...</td>\n",
       "      <td>127.000000</td>\n",
       "      <td>39.000000</td>\n",
       "      <td>220.000000</td>\n",
       "      <td>31.000000</td>\n",
       "      <td>142.000000</td>\n",
       "      <td>97.000000</td>\n",
       "      <td>1.000000</td>\n",
       "      <td>1.000000</td>\n",
       "      <td>73.000000</td>\n",
       "      <td>1.000000</td>\n",
       "    </tr>\n",
       "  </tbody>\n",
       "</table>\n",
       "<p>8 rows × 60 columns</p>\n",
       "</div>"
      ],
      "text/plain": [
       "         Feature 1    Feature 2    Feature 3    Feature 4    Feature 5  \\\n",
       "count  1000.000000  1000.000000  1000.000000  1000.000000  1000.000000   \n",
       "mean    697.120000    39.005000    13.934000    20.626000    66.452000   \n",
       "std     523.340997    32.134835    13.617528    22.765773    52.045407   \n",
       "min      47.000000     0.000000     0.000000     0.000000     0.000000   \n",
       "25%     272.000000    13.000000     4.000000     7.000000    24.750000   \n",
       "50%     626.000000    33.000000    10.000000    14.000000    58.000000   \n",
       "75%     953.250000    56.000000    20.250000    26.250000    93.000000   \n",
       "max    4283.000000   237.000000    97.000000   225.000000   471.000000   \n",
       "\n",
       "         Feature 6    Feature 7    Feature 8    Feature 9   Feature 10  ...  \\\n",
       "count  1000.000000  1000.000000  1000.000000  1000.000000  1000.000000  ...   \n",
       "mean      1.054000    11.477000    75.151000    47.432000     2.152000  ...   \n",
       "std       1.663084    12.690174    55.927293    38.373218     2.858158  ...   \n",
       "min       0.000000     0.000000     2.000000     2.000000     0.000000  ...   \n",
       "25%       0.000000     3.000000    31.750000    19.000000     0.000000  ...   \n",
       "50%       0.000000     8.000000    67.000000    40.000000     1.000000  ...   \n",
       "75%       1.000000    15.000000   103.000000    65.000000     3.000000  ...   \n",
       "max      12.000000    96.000000   473.000000   354.000000    26.000000  ...   \n",
       "\n",
       "        Feature 51   Feature 52   Feature 53   Feature 54   Feature 55  \\\n",
       "count  1000.000000  1000.000000  1000.000000  1000.000000  1000.000000   \n",
       "mean     19.187000     5.419000    29.942000     4.389000    17.124000   \n",
       "std      16.756754     5.811989    25.226752     5.126008    17.811285   \n",
       "min       0.000000     0.000000     0.000000     0.000000     0.000000   \n",
       "25%       6.000000     1.000000    11.000000     1.000000     4.000000   \n",
       "50%      14.000000     4.000000    24.000000     3.000000    11.000000   \n",
       "75%      29.000000     8.000000    44.000000     7.000000    25.000000   \n",
       "max     127.000000    39.000000   220.000000    31.000000   142.000000   \n",
       "\n",
       "        Feature 56   Feature 57   Feature 58   Feature 59   Feature 60  \n",
       "count  1000.000000  1000.000000  1000.000000  1000.000000  1000.000000  \n",
       "mean     11.899000     0.927000     0.995000    19.142000     0.635000  \n",
       "std      12.356354     0.260267     0.070569     6.632483     0.481671  \n",
       "min       0.000000     0.000000     0.000000     5.000000     0.000000  \n",
       "25%       3.000000     1.000000     1.000000    15.000000     0.000000  \n",
       "50%       8.000000     1.000000     1.000000    18.000000     1.000000  \n",
       "75%      18.000000     1.000000     1.000000    22.000000     1.000000  \n",
       "max      97.000000     1.000000     1.000000    73.000000     1.000000  \n",
       "\n",
       "[8 rows x 60 columns]"
      ]
     },
     "metadata": {},
     "output_type": "display_data"
    }
   ],
   "source": [
    "display(df.describe())"
   ]
  },
  {
   "cell_type": "markdown",
   "metadata": {
    "colab_type": "text",
    "id": "xn-6jr7iA9Jy"
   },
   "source": [
    "# Null check"
   ]
  },
  {
   "cell_type": "code",
   "execution_count": 6,
   "metadata": {
    "colab": {
     "base_uri": "https://localhost:8080/"
    },
    "colab_type": "code",
    "id": "CNyhVqNyA7hF",
    "outputId": "7b8be2bc-7bce-449d-bfe5-94c4f05398e0"
   },
   "outputs": [
    {
     "data": {
      "text/plain": [
       "Feature 1     False\n",
       "Feature 2     False\n",
       "Feature 3     False\n",
       "Feature 4     False\n",
       "Feature 5     False\n",
       "Feature 6     False\n",
       "Feature 7     False\n",
       "Feature 8     False\n",
       "Feature 9     False\n",
       "Feature 10    False\n",
       "Feature 11    False\n",
       "Feature 12    False\n",
       "Feature 13    False\n",
       "Feature 14    False\n",
       "Feature 15    False\n",
       "Feature 16    False\n",
       "Feature 17    False\n",
       "Feature 18    False\n",
       "Feature 19    False\n",
       "Feature 20    False\n",
       "Feature 21    False\n",
       "Feature 22    False\n",
       "Feature 23    False\n",
       "Feature 24    False\n",
       "Feature 25    False\n",
       "Feature 26    False\n",
       "Feature 27    False\n",
       "Feature 28    False\n",
       "Feature 29    False\n",
       "Feature 30    False\n",
       "Feature 31    False\n",
       "Feature 32    False\n",
       "Feature 33    False\n",
       "Feature 34    False\n",
       "Feature 35    False\n",
       "Feature 36    False\n",
       "Feature 37    False\n",
       "Feature 38    False\n",
       "Feature 39    False\n",
       "Feature 40    False\n",
       "Feature 41    False\n",
       "Feature 42    False\n",
       "Feature 43    False\n",
       "Feature 44    False\n",
       "Feature 45    False\n",
       "Feature 46    False\n",
       "Feature 47    False\n",
       "Feature 48    False\n",
       "Feature 49    False\n",
       "Feature 50    False\n",
       "Feature 51    False\n",
       "Feature 52    False\n",
       "Feature 53    False\n",
       "Feature 54    False\n",
       "Feature 55    False\n",
       "Feature 56    False\n",
       "Feature 57    False\n",
       "Feature 58    False\n",
       "Feature 59    False\n",
       "Feature 60    False\n",
       "dtype: bool"
      ]
     },
     "metadata": {},
     "output_type": "display_data"
    }
   ],
   "source": [
    "display(df.isnull().any())"
   ]
  },
  {
   "cell_type": "code",
   "execution_count": 7,
   "metadata": {
    "colab": {},
    "colab_type": "code",
    "id": "rczzU9ZTQzrP"
   },
   "outputs": [],
   "source": [
    "def get_X_y():\n",
    "    X = df.iloc[:,:-1] # All columns except the last one\n",
    "    y = df.iloc[:,-1] # The last column\n",
    "    return X, y\n",
    "X, y = get_X_y()"
   ]
  },
  {
   "cell_type": "markdown",
   "metadata": {
    "colab_type": "text",
    "id": "SuwEoTE4FMZt"
   },
   "source": [
    "# Let's talk about distributions"
   ]
  },
  {
   "cell_type": "code",
   "execution_count": 8,
   "metadata": {
    "colab": {},
    "colab_type": "code",
    "id": "VQs66jIEQzrS"
   },
   "outputs": [],
   "source": [
    "def data_exploration(col):\n",
    "    values = col.value_counts() \n",
    "    total = np.array([values[0], values[1]]).sum()\n",
    "    eps = 0\n",
    "    for i, value in enumerate(values):\n",
    "        percentage = int((value/total)*100)\n",
    "        print(f'catigory {1-i} has {value} samples, percentage {percentage + eps}%')\n",
    "        eps+=1\n",
    "\n",
    "    values.plot(kind='pie');"
   ]
  },
  {
   "cell_type": "code",
   "execution_count": 9,
   "metadata": {
    "colab": {
     "base_uri": "https://localhost:8080/"
    },
    "colab_type": "code",
    "id": "MpH7Eds7QzrX",
    "outputId": "7febae2a-b7f1-410f-9906-32229bd5f6ab"
   },
   "outputs": [
    {
     "name": "stdout",
     "output_type": "stream",
     "text": [
      "(1000, 59)\n"
     ]
    },
    {
     "data": {
      "text/html": [
       "<div>\n",
       "<style scoped>\n",
       "    .dataframe tbody tr th:only-of-type {\n",
       "        vertical-align: middle;\n",
       "    }\n",
       "\n",
       "    .dataframe tbody tr th {\n",
       "        vertical-align: top;\n",
       "    }\n",
       "\n",
       "    .dataframe thead th {\n",
       "        text-align: right;\n",
       "    }\n",
       "</style>\n",
       "<table border=\"1\" class=\"dataframe\">\n",
       "  <thead>\n",
       "    <tr style=\"text-align: right;\">\n",
       "      <th></th>\n",
       "      <th>Feature 1</th>\n",
       "      <th>Feature 2</th>\n",
       "      <th>Feature 3</th>\n",
       "      <th>Feature 4</th>\n",
       "      <th>Feature 5</th>\n",
       "      <th>Feature 6</th>\n",
       "      <th>Feature 7</th>\n",
       "      <th>Feature 8</th>\n",
       "      <th>Feature 9</th>\n",
       "      <th>Feature 10</th>\n",
       "      <th>...</th>\n",
       "      <th>Feature 50</th>\n",
       "      <th>Feature 51</th>\n",
       "      <th>Feature 52</th>\n",
       "      <th>Feature 53</th>\n",
       "      <th>Feature 54</th>\n",
       "      <th>Feature 55</th>\n",
       "      <th>Feature 56</th>\n",
       "      <th>Feature 57</th>\n",
       "      <th>Feature 58</th>\n",
       "      <th>Feature 59</th>\n",
       "    </tr>\n",
       "  </thead>\n",
       "  <tbody>\n",
       "    <tr>\n",
       "      <th>0</th>\n",
       "      <td>109</td>\n",
       "      <td>0</td>\n",
       "      <td>1</td>\n",
       "      <td>7</td>\n",
       "      <td>9</td>\n",
       "      <td>0</td>\n",
       "      <td>5</td>\n",
       "      <td>8</td>\n",
       "      <td>6</td>\n",
       "      <td>0</td>\n",
       "      <td>...</td>\n",
       "      <td>0</td>\n",
       "      <td>3</td>\n",
       "      <td>0</td>\n",
       "      <td>11</td>\n",
       "      <td>0</td>\n",
       "      <td>0</td>\n",
       "      <td>0</td>\n",
       "      <td>0</td>\n",
       "      <td>1</td>\n",
       "      <td>18</td>\n",
       "    </tr>\n",
       "    <tr>\n",
       "      <th>1</th>\n",
       "      <td>309</td>\n",
       "      <td>21</td>\n",
       "      <td>4</td>\n",
       "      <td>1</td>\n",
       "      <td>19</td>\n",
       "      <td>1</td>\n",
       "      <td>4</td>\n",
       "      <td>35</td>\n",
       "      <td>23</td>\n",
       "      <td>0</td>\n",
       "      <td>...</td>\n",
       "      <td>0</td>\n",
       "      <td>10</td>\n",
       "      <td>0</td>\n",
       "      <td>13</td>\n",
       "      <td>0</td>\n",
       "      <td>14</td>\n",
       "      <td>9</td>\n",
       "      <td>1</td>\n",
       "      <td>1</td>\n",
       "      <td>14</td>\n",
       "    </tr>\n",
       "    <tr>\n",
       "      <th>2</th>\n",
       "      <td>149</td>\n",
       "      <td>6</td>\n",
       "      <td>1</td>\n",
       "      <td>8</td>\n",
       "      <td>14</td>\n",
       "      <td>0</td>\n",
       "      <td>5</td>\n",
       "      <td>15</td>\n",
       "      <td>11</td>\n",
       "      <td>0</td>\n",
       "      <td>...</td>\n",
       "      <td>0</td>\n",
       "      <td>2</td>\n",
       "      <td>0</td>\n",
       "      <td>8</td>\n",
       "      <td>0</td>\n",
       "      <td>3</td>\n",
       "      <td>2</td>\n",
       "      <td>1</td>\n",
       "      <td>1</td>\n",
       "      <td>18</td>\n",
       "    </tr>\n",
       "    <tr>\n",
       "      <th>3</th>\n",
       "      <td>305</td>\n",
       "      <td>18</td>\n",
       "      <td>5</td>\n",
       "      <td>7</td>\n",
       "      <td>26</td>\n",
       "      <td>0</td>\n",
       "      <td>10</td>\n",
       "      <td>37</td>\n",
       "      <td>21</td>\n",
       "      <td>1</td>\n",
       "      <td>...</td>\n",
       "      <td>0</td>\n",
       "      <td>8</td>\n",
       "      <td>3</td>\n",
       "      <td>13</td>\n",
       "      <td>1</td>\n",
       "      <td>7</td>\n",
       "      <td>1</td>\n",
       "      <td>1</td>\n",
       "      <td>1</td>\n",
       "      <td>20</td>\n",
       "    </tr>\n",
       "    <tr>\n",
       "      <th>4</th>\n",
       "      <td>491</td>\n",
       "      <td>23</td>\n",
       "      <td>8</td>\n",
       "      <td>33</td>\n",
       "      <td>47</td>\n",
       "      <td>0</td>\n",
       "      <td>12</td>\n",
       "      <td>61</td>\n",
       "      <td>36</td>\n",
       "      <td>0</td>\n",
       "      <td>...</td>\n",
       "      <td>0</td>\n",
       "      <td>16</td>\n",
       "      <td>2</td>\n",
       "      <td>34</td>\n",
       "      <td>1</td>\n",
       "      <td>5</td>\n",
       "      <td>6</td>\n",
       "      <td>1</td>\n",
       "      <td>1</td>\n",
       "      <td>24</td>\n",
       "    </tr>\n",
       "  </tbody>\n",
       "</table>\n",
       "<p>5 rows × 59 columns</p>\n",
       "</div>"
      ],
      "text/plain": [
       "   Feature 1  Feature 2  Feature 3  Feature 4  Feature 5  Feature 6  \\\n",
       "0        109          0          1          7          9          0   \n",
       "1        309         21          4          1         19          1   \n",
       "2        149          6          1          8         14          0   \n",
       "3        305         18          5          7         26          0   \n",
       "4        491         23          8         33         47          0   \n",
       "\n",
       "   Feature 7  Feature 8  Feature 9  Feature 10  ...  Feature 50  Feature 51  \\\n",
       "0          5          8          6           0  ...           0           3   \n",
       "1          4         35         23           0  ...           0          10   \n",
       "2          5         15         11           0  ...           0           2   \n",
       "3         10         37         21           1  ...           0           8   \n",
       "4         12         61         36           0  ...           0          16   \n",
       "\n",
       "   Feature 52  Feature 53  Feature 54  Feature 55  Feature 56  Feature 57  \\\n",
       "0           0          11           0           0           0           0   \n",
       "1           0          13           0          14           9           1   \n",
       "2           0           8           0           3           2           1   \n",
       "3           3          13           1           7           1           1   \n",
       "4           2          34           1           5           6           1   \n",
       "\n",
       "   Feature 58  Feature 59  \n",
       "0           1          18  \n",
       "1           1          14  \n",
       "2           1          18  \n",
       "3           1          20  \n",
       "4           1          24  \n",
       "\n",
       "[5 rows x 59 columns]"
      ]
     },
     "execution_count": 9,
     "metadata": {},
     "output_type": "execute_result"
    }
   ],
   "source": [
    "print(X.shape)\n",
    "X.head()"
   ]
  },
  {
   "cell_type": "code",
   "execution_count": 10,
   "metadata": {
    "colab": {
     "base_uri": "https://localhost:8080/"
    },
    "colab_type": "code",
    "id": "SIF1qrClQzra",
    "outputId": "4d4b7cdd-e86f-4a03-d461-b736d4d167ac"
   },
   "outputs": [
    {
     "name": "stdout",
     "output_type": "stream",
     "text": [
      "(1000,)\n",
      "\n",
      "\n"
     ]
    },
    {
     "data": {
      "text/plain": [
       "0    1\n",
       "1    1\n",
       "2    1\n",
       "3    1\n",
       "4    1\n",
       "Name: Feature 60, dtype: int64"
      ]
     },
     "metadata": {},
     "output_type": "display_data"
    },
    {
     "name": "stdout",
     "output_type": "stream",
     "text": [
      "\n",
      "\n",
      "catigory 1 has 635 samples, percentage 63%\n",
      "catigory 0 has 365 samples, percentage 37%\n"
     ]
    },
    {
     "data": {
      "image/png": "[encoded data removed]",
      "text/plain": [
       "<Figure size 432x288 with 1 Axes>"
      ]
     },
     "metadata": {},
     "output_type": "display_data"
    }
   ],
   "source": [
    "print(y.shape)\n",
    "print('\\n')\n",
    "display(y.head())\n",
    "print('\\n')\n",
    "data_exploration(y) #Unbalnced data "
   ]
  },
  {
   "cell_type": "code",
   "execution_count": 11,
   "metadata": {
    "colab": {},
    "colab_type": "code",
    "id": "5-_5evb-Qzrc"
   },
   "outputs": [],
   "source": [
    "def normalize(x):\n",
    "    return x - x.mean()"
   ]
  },
  {
   "cell_type": "code",
   "execution_count": 12,
   "metadata": {
    "colab": {},
    "colab_type": "code",
    "id": "Zaay4E4qQzre"
   },
   "outputs": [],
   "source": [
    "from sklearn.metrics import accuracy_score, roc_curve, roc_auc_score, classification_report\n",
    "\n",
    "def evualate__confusion_matrix(classifier, X_test, ground_trouth, title=None, fontsize=20):\n",
    "    # Predetiction\n",
    "    predetiction = classifier.predict(X_test)\n",
    "    acc = accuracy_score(ground_trouth, predetiction)\n",
    "    print(classification_report(ground_trouth, predetiction))\n",
    "    print(\"Accuracy:\", acc)\n",
    "    print('\\n')\n",
    "\n",
    "    # Confusion matrix\n",
    "    plot_confusion_matrix(classifier, \n",
    "                          X_test, \n",
    "                          ground_trouth,\n",
    "                          cmap=plt.cm.Blues)\n",
    "    plt.title(f'confusion matrix\\n{title}', fontsize=fontsize)\n",
    "    plt.show()\n",
    "\n",
    "    #ROC and AuC\n",
    "    y_pred_proba = classifier.predict_proba(X_test)[::,1]\n",
    "\n",
    "    fpr, tpr, _ = roc_curve(ground_trouth,  y_pred_proba)\n",
    "    auc = roc_auc_score(ground_trouth, y_pred_proba)\n",
    "    plt.plot(fpr,tpr,label=\"data 1, auc=\"+str(auc))\n",
    "    plt.legend(loc=4)\n",
    "    plt.title('ROC', fontsize=fontsize)\n",
    "    plt.show()\n",
    "\n",
    "\n",
    "    plt.show()\n",
    "    print('-'*100)\n",
    "    print('\\n'*3)\n",
    "\n",
    "    return acc\n"
   ]
  },
  {
   "cell_type": "markdown",
   "metadata": {
    "colab_type": "text",
    "id": "lf5qkQXIQzrh"
   },
   "source": [
    "# Logistic regression\n",
    "## Logistic Regression Assumptions\n",
    "* Binary logistic regression requires the dependent variable to be binary.\n",
    "* For a binary regression, the factor level 1 of the dependent variable should represent the desired outcome.\n",
    "* Only the meaningful variables should be included.\n",
    "* The independent variables should be independent of each other. That is, the \n",
    "* model should have little or no multicollinearity.\n",
    "* The independent variables are linearly related to the log odds.\n",
    "* Logistic regression requires quite large sample sizes.\n",
    " \n",
    "## Sources:\n",
    "* [building-a-logistic-regression-in-python-step-by-step](https://towardsdatascience.com/building-a-logistic-regression-in-python-step-by-step-becd4d56c9c8)\n",
    "* [understanding-logistic-regression-python](https://www.datacamp.com/community/tutorials/understanding-logistic-regression-python)\n"
   ]
  },
  {
   "cell_type": "code",
   "execution_count": 13,
   "metadata": {
    "colab": {},
    "colab_type": "code",
    "id": "dJjrchQ-Qzrh"
   },
   "outputs": [],
   "source": [
    "def series2df(s):\n",
    "    return s.to_frame()# (n,) -> (n, 1)\n",
    "\n",
    "def split(X, y, test_size=0.1, shuffle=True,random_state=5):\n",
    "    X = normalize(X)\n",
    "    X_train, X_test, y_train, y_test = train_test_split(X, y, \n",
    "                                                    test_size=test_size, \n",
    "                                                    shuffle=shuffle,\n",
    "                                                    random_state=random_state)\n",
    "    y_train = series2df(y_train) \n",
    "    y_test = series2df(y_test)   \n",
    "    return X_train, X_test, y_train, y_test\n",
    "\n",
    "logisticRegr  = LogisticRegression(max_iter=20000) #init LogisticRegression model\n"
   ]
  },
  {
   "cell_type": "markdown",
   "metadata": {
    "colab_type": "text",
    "id": "1u4rFWTj1vvy"
   },
   "source": [
    "# Split the data into 90:10 of train:test and Construct a logistic regression model on the train data."
   ]
  },
  {
   "cell_type": "code",
   "execution_count": 14,
   "metadata": {
    "colab": {},
    "colab_type": "code",
    "id": "qhZT-oIHQzrj"
   },
   "outputs": [],
   "source": [
    "X_train, X_test, y_train, y_test = split(X, y)\n",
    "classifier = logisticRegr.fit(X_train, y_train);"
   ]
  },
  {
   "cell_type": "markdown",
   "metadata": {
    "colab_type": "text",
    "id": "WARGi6xoQzrm"
   },
   "source": [
    "# Train dataset catigory distribution"
   ]
  },
  {
   "cell_type": "code",
   "execution_count": 15,
   "metadata": {
    "colab": {
     "base_uri": "https://localhost:8080/"
    },
    "colab_type": "code",
    "id": "4xMK8HfHQzrm",
    "outputId": "2ea3b036-d799-400f-99e3-ca435e960e1c"
   },
   "outputs": [
    {
     "name": "stdout",
     "output_type": "stream",
     "text": [
      "catigory 1 has 576 samples, percentage 64%\n",
      "catigory 0 has 324 samples, percentage 37%\n"
     ]
    },
    {
     "data": {
      "image/png": "[encoded data removed]",
      "text/plain": [
       "<Figure size 432x288 with 1 Axes>"
      ]
     },
     "metadata": {},
     "output_type": "display_data"
    }
   ],
   "source": [
    "data_exploration(pd.Series(y_train.values.flatten()))"
   ]
  },
  {
   "cell_type": "markdown",
   "metadata": {
    "colab_type": "text",
    "id": "F1_l6e8CQzro"
   },
   "source": [
    "# Test dataset catigory distribution"
   ]
  },
  {
   "cell_type": "code",
   "execution_count": 16,
   "metadata": {
    "colab": {
     "base_uri": "https://localhost:8080/"
    },
    "colab_type": "code",
    "id": "2nUZg1YyQzro",
    "outputId": "1e356313-a8cf-44e8-c5cc-27a825fd0c57"
   },
   "outputs": [
    {
     "name": "stdout",
     "output_type": "stream",
     "text": [
      "catigory 1 has 59 samples, percentage 59%\n",
      "catigory 0 has 41 samples, percentage 42%\n"
     ]
    },
    {
     "data": {
      "image/png": "[encoded data removed]",
      "text/plain": [
       "<Figure size 432x288 with 1 Axes>"
      ]
     },
     "metadata": {},
     "output_type": "display_data"
    }
   ],
   "source": [
    "data_exploration(pd.Series(y_test.values.flatten()))"
   ]
  },
  {
   "cell_type": "markdown",
   "metadata": {
    "colab_type": "text",
    "id": "ZwcW6KX2Qzrq"
   },
   "source": [
    "# Explore the Logistic Regression model"
   ]
  },
  {
   "cell_type": "code",
   "execution_count": 17,
   "metadata": {
    "colab": {},
    "colab_type": "code",
    "id": "VYdKev-LQzrr"
   },
   "outputs": [],
   "source": [
    "# https://machinelearningmastery.com/calculate-feature-importance-with-python/\n",
    "def find_model_weights(classifier):\n",
    "    # get importance\n",
    "    if len(classifier.coef_) == 1:\n",
    "        weights = classifier.coef_[0]\n",
    "    else:\n",
    "        weights = classifier.coef_ #Lasso has different shape\n",
    "\n",
    "    # summarize feature importance\n",
    "    max_value = -np.inf\n",
    "    save_value = []\n",
    "    for i, v in enumerate(weights):\n",
    "        print(f'Feature {i}, weight: {v}')\n",
    "    i = np.argmax(np.abs(weights))\n",
    "    print(f'\\nlargest absolute weight coefficient {i+1}: weight: {np.abs(weights[i])}')\n",
    "    print(f'intercept: {classifier.intercept_[0]}\\n')\n"
   ]
  },
  {
   "cell_type": "markdown",
   "metadata": {
    "colab_type": "text",
    "id": "9zb7nKMo1LZI"
   },
   "source": [
    "# Extract the weights of the models and find the column with largest absolute weight"
   ]
  },
  {
   "cell_type": "code",
   "execution_count": 18,
   "metadata": {
    "colab": {
     "base_uri": "https://localhost:8080/"
    },
    "colab_type": "code",
    "id": "fN4_tCJX1CNY",
    "outputId": "112321b5-19bd-494a-cfc3-5ae61b50f5c2"
   },
   "outputs": [
    {
     "name": "stdout",
     "output_type": "stream",
     "text": [
      "Feature 0, weight: 0.031512914534580785\n",
      "Feature 1, weight: -0.0046614666851260145\n",
      "Feature 2, weight: -0.015781425030725174\n",
      "Feature 3, weight: -0.006045191834372824\n",
      "Feature 4, weight: -0.066216133019677\n",
      "Feature 5, weight: -0.192290182032823\n",
      "Feature 6, weight: -0.04040276342520654\n",
      "Feature 7, weight: -0.04556168295116484\n",
      "Feature 8, weight: -0.048330717725694056\n",
      "Feature 9, weight: 0.04506657830520682\n",
      "Feature 10, weight: 0.06936239347982555\n",
      "Feature 11, weight: -0.8736673942972192\n",
      "Feature 12, weight: -0.052140961839788384\n",
      "Feature 13, weight: -0.022122524929928333\n",
      "Feature 14, weight: 0.07546352064232142\n",
      "Feature 15, weight: 0.0\n",
      "Feature 16, weight: -0.050509389777866925\n",
      "Feature 17, weight: -0.14050443947235725\n",
      "Feature 18, weight: -0.05788428580555669\n",
      "Feature 19, weight: -0.049959147750386526\n",
      "Feature 20, weight: -0.006514300469618573\n",
      "Feature 21, weight: -0.07080204954312767\n",
      "Feature 22, weight: -0.014266712433090216\n",
      "Feature 23, weight: -0.11031560935092596\n",
      "Feature 24, weight: 0.0483757699128098\n",
      "Feature 25, weight: -0.0400398705571069\n",
      "Feature 26, weight: -0.00837786314332313\n",
      "Feature 27, weight: -0.634651952113601\n",
      "Feature 28, weight: 0.127453795236289\n",
      "Feature 29, weight: -0.04090031830235128\n",
      "Feature 30, weight: 0.03187255846253448\n",
      "Feature 31, weight: 0.01358649483864915\n",
      "Feature 32, weight: -0.06195158128245125\n",
      "Feature 33, weight: -0.13362609772994644\n",
      "Feature 34, weight: -0.08388425187391235\n",
      "Feature 35, weight: -0.16574023475504296\n",
      "Feature 36, weight: -0.4500607258389367\n",
      "Feature 37, weight: -0.11722653637215666\n",
      "Feature 38, weight: 0.0\n",
      "Feature 39, weight: -0.04667127723728959\n",
      "Feature 40, weight: 0.06274518783827795\n",
      "Feature 41, weight: -0.264419110336385\n",
      "Feature 42, weight: -0.1312041143343683\n",
      "Feature 43, weight: 0.0026576520754728133\n",
      "Feature 44, weight: 0.0011148698499343385\n",
      "Feature 45, weight: 0.018109928600766673\n",
      "Feature 46, weight: 0.02621897062864484\n",
      "Feature 47, weight: -0.09823883032401369\n",
      "Feature 48, weight: 0.013716242362130763\n",
      "Feature 49, weight: 0.0069990961742343195\n",
      "Feature 50, weight: -0.019662785524278126\n",
      "Feature 51, weight: -0.14113845709738113\n",
      "Feature 52, weight: 0.05733851202151015\n",
      "Feature 53, weight: -0.16726269573553196\n",
      "Feature 54, weight: 0.09559783969268526\n",
      "Feature 55, weight: 0.06903352581609268\n",
      "Feature 56, weight: 0.4852002105885291\n",
      "Feature 57, weight: -0.007806736347627696\n",
      "Feature 58, weight: -0.0012084887822276244\n",
      "\n",
      "largest absolute weight coefficient 12: weight: 0.8736673942972192\n",
      "intercept: 0.5862042275734478\n",
      "\n"
     ]
    }
   ],
   "source": [
    "find_model_weights(classifier)"
   ]
  },
  {
   "cell_type": "code",
   "execution_count": 19,
   "metadata": {
    "colab": {
     "base_uri": "https://localhost:8080/"
    },
    "colab_type": "code",
    "id": "dYVTVhPtQzrt",
    "outputId": "ff02053a-91c8-4d84-8385-3a5722ec5f85"
   },
   "outputs": [
    {
     "name": "stdout",
     "output_type": "stream",
     "text": [
      "catigory 1 has 59 samples, percentage 59%\n",
      "catigory 0 has 41 samples, percentage 42%\n"
     ]
    },
    {
     "data": {
      "image/png": "[encoded data removed]",
      "text/plain": [
       "<Figure size 432x288 with 1 Axes>"
      ]
     },
     "metadata": {},
     "output_type": "display_data"
    }
   ],
   "source": [
    "data_exploration(pd.Series(y_test.values.flatten()))"
   ]
  },
  {
   "cell_type": "markdown",
   "metadata": {
    "colab_type": "text",
    "id": "8psNaqi_1Vvd"
   },
   "source": [
    "# Use the constructed model to predict the label of the test data compute the confusion matrix and store it."
   ]
  },
  {
   "cell_type": "code",
   "execution_count": 20,
   "metadata": {
    "colab": {
     "base_uri": "https://localhost:8080/"
    },
    "colab_type": "code",
    "id": "VveIBCswQzrx",
    "outputId": "f5076145-7cb8-47c6-bba1-358bf4b605cd"
   },
   "outputs": [
    {
     "name": "stdout",
     "output_type": "stream",
     "text": [
      "              precision    recall  f1-score   support\n",
      "\n",
      "           0       0.77      0.56      0.65        41\n",
      "           1       0.74      0.88      0.81        59\n",
      "\n",
      "    accuracy                           0.75       100\n",
      "   macro avg       0.75      0.72      0.73       100\n",
      "weighted avg       0.75      0.75      0.74       100\n",
      "\n",
      "Accuracy: 0.75\n",
      "\n",
      "\n"
     ]
    },
    {
     "data": {
      "image/png": "[encoded data removed]",
      "text/plain": [
       "<Figure size 432x288 with 2 Axes>"
      ]
     },
     "metadata": {
      "needs_background": "light"
     },
     "output_type": "display_data"
    },
    {
     "data": {
      "image/png": "[encoded data removed]",
      "text/plain": [
       "<Figure size 432x288 with 1 Axes>"
      ]
     },
     "metadata": {
      "needs_background": "light"
     },
     "output_type": "display_data"
    },
    {
     "name": "stdout",
     "output_type": "stream",
     "text": [
      "----------------------------------------------------------------------------------------------------\n",
      "\n",
      "\n",
      "\n",
      "\n"
     ]
    }
   ],
   "source": [
    "_ = evualate__confusion_matrix(classifier, X_test, y_test)"
   ]
  },
  {
   "cell_type": "markdown",
   "metadata": {
    "colab_type": "text",
    "id": "bPeIKwY72CEG"
   },
   "source": [
    "# Repeat the previous step with KNN using K=5 neighbors and majority function. Use the same split from previous step."
   ]
  },
  {
   "cell_type": "markdown",
   "metadata": {
    "colab_type": "text",
    "id": "-GmfeEXYQzrz"
   },
   "source": [
    "# k-nearest neighbors (KNN)\n",
    "KNN works by finding the distances between a query and all the examples in the data, selecting the specified number examples (K) closest to the query, then votes for the most frequent label (in the case of classification) .\n",
    "\n",
    "\n",
    "![](https://miro.medium.com/max/767/1*AuXDgGrr0wbCoF6KDXXSZQ.jpeg)\n",
    "\n",
    "## Sources:\n",
    "* [machine-learning-basics-with-the-k-nearest-neighbors-algorithm](https://towardsdatascience.com/machine-learning-basics-with-the-k-nearest-neighbors-algorithm-6a6e71d01761)\n",
    "* [k-nearest-neighbor-classification-scikit-learn](https://www.datacamp.com/community/tutorials/k-nearest-neighbor-classification-scikit-learn)"
   ]
  },
  {
   "cell_type": "markdown",
   "metadata": {
    "colab_type": "text",
    "id": "x-K9NnFV2Nbf"
   },
   "source": [
    "# Split the data into 90:10 of train:test and Construct a KNN model on the train data."
   ]
  },
  {
   "cell_type": "code",
   "execution_count": 21,
   "metadata": {
    "colab": {},
    "colab_type": "code",
    "id": "MkbAQCKqQzrz"
   },
   "outputs": [],
   "source": [
    "from sklearn.neighbors import KNeighborsClassifier\n",
    "\n",
    "X, y = get_X_y()\n",
    "knn = KNeighborsClassifier(n_neighbors=5)\n",
    "X_train, X_test, y_train, y_test = split(X, y) #Same split\n",
    "classifier = knn.fit(X_train, y_train)"
   ]
  },
  {
   "cell_type": "markdown",
   "metadata": {
    "colab_type": "text",
    "id": "5Tq1xdPm2auA"
   },
   "source": [
    "# Extract the weights of the models and find the column with largest absolute weight\n",
    "## 'KNeighborsClassifier' object has no attribute 'coef_'\n",
    "\n",
    "There’s no need to build a model, tune several parameters, or make additional assumptions."
   ]
  },
  {
   "cell_type": "code",
   "execution_count": 22,
   "metadata": {
    "colab": {},
    "colab_type": "code",
    "id": "4FdDUlvE2UQ7"
   },
   "outputs": [],
   "source": [
    "# find_model_weights(classifier)"
   ]
  },
  {
   "cell_type": "markdown",
   "metadata": {
    "colab_type": "text",
    "id": "ul92KQWX2mAi"
   },
   "source": [
    "# Use the constructed model to predict the label of the test data Compute the confusion matrix and store it."
   ]
  },
  {
   "cell_type": "code",
   "execution_count": 23,
   "metadata": {
    "colab": {
     "base_uri": "https://localhost:8080/"
    },
    "colab_type": "code",
    "id": "Hh4QEs6s2jMX",
    "outputId": "64ed61b1-8b7a-45c3-f5a2-9a231f8db8e6"
   },
   "outputs": [
    {
     "name": "stdout",
     "output_type": "stream",
     "text": [
      "              precision    recall  f1-score   support\n",
      "\n",
      "           0       0.67      0.54      0.59        41\n",
      "           1       0.72      0.81      0.76        59\n",
      "\n",
      "    accuracy                           0.70       100\n",
      "   macro avg       0.69      0.68      0.68       100\n",
      "weighted avg       0.70      0.70      0.69       100\n",
      "\n",
      "Accuracy: 0.7\n",
      "\n",
      "\n"
     ]
    },
    {
     "data": {
      "image/png": "[encoded data removed]",
      "text/plain": [
       "<Figure size 432x288 with 2 Axes>"
      ]
     },
     "metadata": {
      "needs_background": "light"
     },
     "output_type": "display_data"
    },
    {
     "data": {
      "image/png": "[encoded data removed]",
      "text/plain": [
       "<Figure size 432x288 with 1 Axes>"
      ]
     },
     "metadata": {
      "needs_background": "light"
     },
     "output_type": "display_data"
    },
    {
     "name": "stdout",
     "output_type": "stream",
     "text": [
      "----------------------------------------------------------------------------------------------------\n",
      "\n",
      "\n",
      "\n",
      "\n"
     ]
    }
   ],
   "source": [
    "_ = evualate__confusion_matrix(classifier, X_test, y_test)"
   ]
  },
  {
   "cell_type": "markdown",
   "metadata": {
    "colab_type": "text",
    "id": "BWWgjPclQzr1"
   },
   "source": [
    "# 5-fold cross validation\n",
    "The classic method (split for training and test) is not very reliable as the accuracy obtained for one test set can be very different to the accuracy obtained for a different test set. K-fold Cross Validation(CV) provides a solution to this problem by dividing the data into folds and ensuring that each fold is used as a testing set at some point. \n",
    "\n",
    "![Image of Yaktocat](https://miro.medium.com/max/1500/1*IjKy-Zc9zVOHFzMw2GXaQw.png)\n",
    "\n",
    "# Sources:\n",
    "* [k-fold-cross-validation](https://medium.com/datadriveninvestor/k-fold-cross-validation-6b8518070833)"
   ]
  },
  {
   "cell_type": "markdown",
   "metadata": {
    "colab_type": "text",
    "id": "hdD9AuY0Qzr2"
   },
   "source": []
  },
  {
   "cell_type": "code",
   "execution_count": 24,
   "metadata": {
    "colab": {},
    "colab_type": "code",
    "id": "KG4h5ehznyAH"
   },
   "outputs": [],
   "source": [
    "from sklearn.model_selection import StratifiedKFold, KFold, cross_validate, cross_val_score\n",
    "def kfold_cross_validition(kfold):\n",
    "    scores = []\n",
    "    X, y = get_X_y()\n",
    "\n",
    "\n",
    "    for i, (train_index, test_index) in enumerate(kfold.split(X, y)):\n",
    "    \n",
    "        X_train, X_test, y_train, y_test = X.iloc[train_index], X.iloc[test_index], y.iloc[train_index], y.iloc[test_index]\n",
    "\n",
    "        classifier = logisticRegr.fit(X_train, y_train);\n",
    "        find_model_weights(classifier)\n",
    "        index = i+1\n",
    "        auc = evualate__confusion_matrix(classifier, X_test, \n",
    "                                        y_test, title=f'evaluate on fold {index}/5')\n",
    "        scores.append(auc)\n",
    "    print('\\n')\n",
    "    best_score = np.argmax(scores)\n",
    "\n",
    "    for i, score in enumerate(scores):\n",
    "        if i == best_score:\n",
    "            print('best score', end='-> ')\n",
    "        print(f'fold {i+1} score {score}')\n"
   ]
  },
  {
   "cell_type": "code",
   "execution_count": 25,
   "metadata": {
    "colab": {
     "base_uri": "https://localhost:8080/"
    },
    "colab_type": "code",
    "id": "6W_KE6b5Qzr2",
    "outputId": "9ce2d07d-9398-40a4-9028-cd950d400eaa"
   },
   "outputs": [
    {
     "name": "stdout",
     "output_type": "stream",
     "text": [
      "Feature 0, weight: 0.034188032869269594\n",
      "Feature 1, weight: 0.013453603768360738\n",
      "Feature 2, weight: -0.0279773166554969\n",
      "Feature 3, weight: -0.019369459154768842\n",
      "Feature 4, weight: -0.05827036743360034\n",
      "Feature 5, weight: -0.08579485352736081\n",
      "Feature 6, weight: -0.05172195618261971\n",
      "Feature 7, weight: -0.044919854794713054\n",
      "Feature 8, weight: -0.06685309077550562\n",
      "Feature 9, weight: 0.022368935208982657\n",
      "Feature 10, weight: -0.06994995367681837\n",
      "Feature 11, weight: -0.5000021818899659\n",
      "Feature 12, weight: -0.04599612208482012\n",
      "Feature 13, weight: -0.02890902404035201\n",
      "Feature 14, weight: 0.01283820166908744\n",
      "Feature 15, weight: 0.0\n",
      "Feature 16, weight: -0.04529467267766475\n",
      "Feature 17, weight: -0.03313670157830848\n",
      "Feature 18, weight: -0.05441497694884003\n",
      "Feature 19, weight: -0.03763845803575947\n",
      "Feature 20, weight: 0.026998666751451933\n",
      "Feature 21, weight: -0.08595388217546246\n",
      "Feature 22, weight: -0.060514025604457754\n",
      "Feature 23, weight: 0.12050502162537455\n",
      "Feature 24, weight: 0.005991206082675608\n",
      "Feature 25, weight: 0.02213383351351188\n",
      "Feature 26, weight: -0.02464643980812698\n",
      "Feature 27, weight: -0.6893585165790852\n",
      "Feature 28, weight: 0.08612832521431624\n",
      "Feature 29, weight: -0.04039674010566906\n",
      "Feature 30, weight: 0.010008404980902162\n",
      "Feature 31, weight: -0.021371520718184413\n",
      "Feature 32, weight: -0.07533475831919674\n",
      "Feature 33, weight: -0.13012584189386683\n",
      "Feature 34, weight: -0.08222102940982134\n",
      "Feature 35, weight: -0.1180097138709309\n",
      "Feature 36, weight: -0.5685883844188145\n",
      "Feature 37, weight: -0.12714779366299495\n",
      "Feature 38, weight: 0.0\n",
      "Feature 39, weight: -0.01868928426028556\n",
      "Feature 40, weight: 0.028582838767030296\n",
      "Feature 41, weight: -0.29894952139322833\n",
      "Feature 42, weight: -0.06360442746831871\n",
      "Feature 43, weight: 0.009272806291319234\n",
      "Feature 44, weight: 0.007095442191671953\n",
      "Feature 45, weight: -0.010507464646219183\n",
      "Feature 46, weight: 0.035830629932771765\n",
      "Feature 47, weight: -0.10485721906333831\n",
      "Feature 48, weight: 0.002090486789666203\n",
      "Feature 49, weight: 0.002331601819432763\n",
      "Feature 50, weight: -0.06410282621510355\n",
      "Feature 51, weight: -0.12739964786408703\n",
      "Feature 52, weight: 0.06446047895660467\n",
      "Feature 53, weight: -0.2284433319780452\n",
      "Feature 54, weight: 0.11454100258704251\n",
      "Feature 55, weight: 0.06447486709851341\n",
      "Feature 56, weight: 0.9160055635751375\n",
      "Feature 57, weight: -0.07980299568572102\n",
      "Feature 58, weight: -0.005244629480328559\n",
      "\n",
      "largest absolute weight coefficient 57: weight: 0.9160055635751375\n",
      "intercept: 1.221282746620943\n",
      "\n",
      "              precision    recall  f1-score   support\n",
      "\n",
      "           0       0.88      0.64      0.74        76\n",
      "           1       0.81      0.94      0.87       124\n",
      "\n",
      "    accuracy                           0.83       200\n",
      "   macro avg       0.84      0.79      0.81       200\n",
      "weighted avg       0.84      0.83      0.82       200\n",
      "\n",
      "Accuracy: 0.83\n",
      "\n",
      "\n"
     ]
    },
    {
     "data": {
      "image/png": "[encoded data removed]",
      "text/plain": [
       "<Figure size 432x288 with 2 Axes>"
      ]
     },
     "metadata": {
      "needs_background": "light"
     },
     "output_type": "display_data"
    },
    {
     "data": {
      "image/png": "[encoded data removed]",
      "text/plain": [
       "<Figure size 432x288 with 1 Axes>"
      ]
     },
     "metadata": {
      "needs_background": "light"
     },
     "output_type": "display_data"
    },
    {
     "name": "stdout",
     "output_type": "stream",
     "text": [
      "----------------------------------------------------------------------------------------------------\n",
      "\n",
      "\n",
      "\n",
      "\n",
      "Feature 0, weight: 0.04526662371752819\n",
      "Feature 1, weight: 0.011220831761141864\n",
      "Feature 2, weight: -0.035224849224772675\n",
      "Feature 3, weight: -0.009362929151913855\n",
      "Feature 4, weight: -0.07268486642148808\n",
      "Feature 5, weight: -0.041592652270358584\n",
      "Feature 6, weight: -0.04633368469429324\n",
      "Feature 7, weight: -0.05506070746663612\n",
      "Feature 8, weight: -0.069273260961598\n",
      "Feature 9, weight: 0.08662052891700747\n",
      "Feature 10, weight: 0.15534995848915345\n",
      "Feature 11, weight: -1.0143623674411395\n",
      "Feature 12, weight: -0.0902879059636523\n",
      "Feature 13, weight: -0.03902178858614826\n",
      "Feature 14, weight: 0.06918755439684397\n",
      "Feature 15, weight: 0.0\n",
      "Feature 16, weight: -0.06372652922901963\n",
      "Feature 17, weight: 0.1455099530690295\n",
      "Feature 18, weight: -0.02090562746587918\n",
      "Feature 19, weight: -0.06338751461972074\n",
      "Feature 20, weight: -0.07108845931955694\n",
      "Feature 21, weight: -0.0891798267941376\n",
      "Feature 22, weight: -0.17366123012426501\n",
      "Feature 23, weight: -0.1514200319667288\n",
      "Feature 24, weight: -0.04330497180137754\n",
      "Feature 25, weight: 0.019493273984963425\n",
      "Feature 26, weight: -0.026534864521251256\n",
      "Feature 27, weight: -1.6375213368229005\n",
      "Feature 28, weight: 0.047223847354879264\n",
      "Feature 29, weight: -0.03306958928971227\n",
      "Feature 30, weight: 0.02249944973611377\n",
      "Feature 31, weight: 0.004406213929929883\n",
      "Feature 32, weight: -0.05901870184805286\n",
      "Feature 33, weight: -0.11163488583737327\n",
      "Feature 34, weight: -0.04064926963588113\n",
      "Feature 35, weight: -0.1628065410066103\n",
      "Feature 36, weight: -0.5502627624935368\n",
      "Feature 37, weight: -0.08842015820983942\n",
      "Feature 38, weight: 0.0\n",
      "Feature 39, weight: -0.04092613341966567\n",
      "Feature 40, weight: 0.08346333076841712\n",
      "Feature 41, weight: -0.19414055825314652\n",
      "Feature 42, weight: -0.27778542830360053\n",
      "Feature 43, weight: -0.00021230914042389616\n",
      "Feature 44, weight: -0.01886073659918261\n",
      "Feature 45, weight: 0.022909198796549908\n",
      "Feature 46, weight: 0.02431393250070872\n",
      "Feature 47, weight: -0.056107335790258464\n",
      "Feature 48, weight: 0.01991294184302402\n",
      "Feature 49, weight: 0.026171804046735202\n",
      "Feature 50, weight: 0.005086750672444487\n",
      "Feature 51, weight: -0.15792055573658373\n",
      "Feature 52, weight: 0.023037746500600326\n",
      "Feature 53, weight: -0.12109816001538397\n",
      "Feature 54, weight: 0.019282231006674404\n",
      "Feature 55, weight: 0.015791079205546815\n",
      "Feature 56, weight: 0.2898307347754089\n",
      "Feature 57, weight: 0.32796009050433705\n",
      "Feature 58, weight: 0.0015525242359950612\n",
      "\n",
      "largest absolute weight coefficient 28: weight: 1.6375213368229005\n",
      "intercept: 0.8842091075114114\n",
      "\n",
      "              precision    recall  f1-score   support\n",
      "\n",
      "           0       0.72      0.57      0.64        60\n",
      "           1       0.83      0.91      0.87       140\n",
      "\n",
      "    accuracy                           0.81       200\n",
      "   macro avg       0.78      0.74      0.75       200\n",
      "weighted avg       0.80      0.81      0.80       200\n",
      "\n",
      "Accuracy: 0.805\n",
      "\n",
      "\n"
     ]
    },
    {
     "data": {
      "image/png": "[encoded data removed]",
      "text/plain": [
       "<Figure size 432x288 with 2 Axes>"
      ]
     },
     "metadata": {
      "needs_background": "light"
     },
     "output_type": "display_data"
    },
    {
     "data": {
      "image/png": "[encoded data removed]",
      "text/plain": [
       "<Figure size 432x288 with 1 Axes>"
      ]
     },
     "metadata": {
      "needs_background": "light"
     },
     "output_type": "display_data"
    },
    {
     "name": "stdout",
     "output_type": "stream",
     "text": [
      "----------------------------------------------------------------------------------------------------\n",
      "\n",
      "\n",
      "\n",
      "\n",
      "Feature 0, weight: 0.03843937836160978\n",
      "Feature 1, weight: -5.7305431168670396e-05\n",
      "Feature 2, weight: 0.022421331111122163\n",
      "Feature 3, weight: 0.0022389480440802604\n",
      "Feature 4, weight: -0.06750667459093534\n",
      "Feature 5, weight: -0.12341900736929119\n",
      "Feature 6, weight: -0.04675982339219564\n",
      "Feature 7, weight: -0.060513037441946325\n",
      "Feature 8, weight: -0.043918518638415054\n",
      "Feature 9, weight: 0.09560850842776163\n",
      "Feature 10, weight: 0.0034502838682747834\n",
      "Feature 11, weight: -0.783726396759797\n",
      "Feature 12, weight: -0.10705445141381095\n",
      "Feature 13, weight: -0.030191325017296242\n",
      "Feature 14, weight: 0.053341168718288395\n",
      "Feature 15, weight: 0.0\n",
      "Feature 16, weight: -0.051841692076198626\n",
      "Feature 17, weight: -0.10640749286394233\n",
      "Feature 18, weight: -0.06820010885041473\n",
      "Feature 19, weight: -0.054696734294671874\n",
      "Feature 20, weight: -0.06277573509340777\n",
      "Feature 21, weight: -0.05618323350076059\n",
      "Feature 22, weight: 0.028074117499646056\n",
      "Feature 23, weight: -0.23807442106945734\n",
      "Feature 24, weight: 0.04158942817301762\n",
      "Feature 25, weight: -0.07510014315749625\n",
      "Feature 26, weight: -0.03220068632170299\n",
      "Feature 27, weight: -0.9666017319266967\n",
      "Feature 28, weight: -0.03962574970027531\n",
      "Feature 29, weight: -0.007983899189697507\n",
      "Feature 30, weight: -0.017933431424356164\n",
      "Feature 31, weight: -0.005313425250243186\n",
      "Feature 32, weight: -0.03401068813152178\n",
      "Feature 33, weight: -0.022216143412874045\n",
      "Feature 34, weight: -0.03958894707952614\n",
      "Feature 35, weight: -0.16047781673531455\n",
      "Feature 36, weight: -0.28213762432316597\n",
      "Feature 37, weight: -0.09971248102851678\n",
      "Feature 38, weight: 0.0\n",
      "Feature 39, weight: -0.031258337553840256\n",
      "Feature 40, weight: 0.10432812632078191\n",
      "Feature 41, weight: -0.200831052288478\n",
      "Feature 42, weight: -0.13496546250486005\n",
      "Feature 43, weight: 0.014011331949876233\n",
      "Feature 44, weight: -0.03973399104540287\n",
      "Feature 45, weight: -0.09438272557892802\n",
      "Feature 46, weight: -0.05166655369160414\n",
      "Feature 47, weight: 0.0\n",
      "Feature 48, weight: 0.053686686915226475\n",
      "Feature 49, weight: 0.00663114534253298\n",
      "Feature 50, weight: -0.001869266911168409\n",
      "Feature 51, weight: -0.1109415112734499\n",
      "Feature 52, weight: -0.007983899189697507\n",
      "Feature 53, weight: -0.03962574970027531\n",
      "Feature 54, weight: -0.022216143412874045\n",
      "Feature 55, weight: -0.03401068813152178\n",
      "Feature 56, weight: 0.4809955573632055\n",
      "Feature 57, weight: 0.2997331712935518\n",
      "Feature 58, weight: 0.03507874179695682\n",
      "\n",
      "largest absolute weight coefficient 28: weight: 0.9666017319266967\n",
      "intercept: 0.506762794508741\n",
      "\n",
      "              precision    recall  f1-score   support\n",
      "\n",
      "           0       0.68      0.74      0.71        61\n",
      "           1       0.88      0.85      0.86       139\n",
      "\n",
      "    accuracy                           0.81       200\n",
      "   macro avg       0.78      0.79      0.79       200\n",
      "weighted avg       0.82      0.81      0.82       200\n",
      "\n",
      "Accuracy: 0.815\n",
      "\n",
      "\n"
     ]
    },
    {
     "data": {
      "image/png": "[encoded data removed]",
      "text/plain": [
       "<Figure size 432x288 with 2 Axes>"
      ]
     },
     "metadata": {
      "needs_background": "light"
     },
     "output_type": "display_data"
    },
    {
     "data": {
      "image/png": "[encoded data removed]",
      "text/plain": [
       "<Figure size 432x288 with 1 Axes>"
      ]
     },
     "metadata": {
      "needs_background": "light"
     },
     "output_type": "display_data"
    },
    {
     "name": "stdout",
     "output_type": "stream",
     "text": [
      "----------------------------------------------------------------------------------------------------\n",
      "\n",
      "\n",
      "\n",
      "\n",
      "Feature 0, weight: 0.03432611691668568\n",
      "Feature 1, weight: -0.012605607951446433\n",
      "Feature 2, weight: -0.016848433886656848\n",
      "Feature 3, weight: -0.011443361509012262\n",
      "Feature 4, weight: -0.060774088928897546\n",
      "Feature 5, weight: -0.159695758187149\n",
      "Feature 6, weight: -0.04472030804085079\n",
      "Feature 7, weight: -0.0317574429658576\n",
      "Feature 8, weight: -0.058770690519749605\n",
      "Feature 9, weight: 0.08962706488541669\n",
      "Feature 10, weight: 0.09713327859289148\n",
      "Feature 11, weight: -0.7355620221085999\n",
      "Feature 12, weight: -0.0661171137891313\n",
      "Feature 13, weight: -0.022313392272443014\n",
      "Feature 14, weight: -0.005713999247721497\n",
      "Feature 15, weight: 0.0\n",
      "Feature 16, weight: -0.060798945321334015\n",
      "Feature 17, weight: -0.14107206917179363\n",
      "Feature 18, weight: -0.05090421087824238\n",
      "Feature 19, weight: -0.06030660890121234\n",
      "Feature 20, weight: -0.04786344405240868\n",
      "Feature 21, weight: -0.05641611339865366\n",
      "Feature 22, weight: -0.1749562013110626\n",
      "Feature 23, weight: -0.1031068507983799\n",
      "Feature 24, weight: -0.056056565082934634\n",
      "Feature 25, weight: -0.041086261134272974\n",
      "Feature 26, weight: -0.01582615870399496\n",
      "Feature 27, weight: -0.9830097871812233\n",
      "Feature 28, weight: 0.06515553097805721\n",
      "Feature 29, weight: -0.007132957627997436\n",
      "Feature 30, weight: 0.020909925381079192\n",
      "Feature 31, weight: -0.005161952363008854\n",
      "Feature 32, weight: -0.025529706620798797\n",
      "Feature 33, weight: -0.0613932266592631\n",
      "Feature 34, weight: -0.06128329568407919\n",
      "Feature 35, weight: -0.206131796278491\n",
      "Feature 36, weight: -0.571541375100476\n",
      "Feature 37, weight: -0.11380650044641914\n",
      "Feature 38, weight: 0.0\n",
      "Feature 39, weight: -0.06131417074565897\n",
      "Feature 40, weight: 0.08412333668990189\n",
      "Feature 41, weight: -0.1935831024730012\n",
      "Feature 42, weight: -0.41215814925445643\n",
      "Feature 43, weight: -0.022558986214708258\n",
      "Feature 44, weight: -0.004851778237315793\n",
      "Feature 45, weight: 0.10373314692517302\n",
      "Feature 46, weight: -0.007411582123439229\n",
      "Feature 47, weight: -0.044254292080285966\n",
      "Feature 48, weight: 0.025963911524927923\n",
      "Feature 49, weight: 0.04532919393227165\n",
      "Feature 50, weight: -0.017362251426144042\n",
      "Feature 51, weight: -0.15030843140537206\n",
      "Feature 52, weight: 0.03712133445223127\n",
      "Feature 53, weight: -0.06760734526278875\n",
      "Feature 54, weight: 0.04186678819456162\n",
      "Feature 55, weight: 0.033476016153005675\n",
      "Feature 56, weight: 0.4290067917266866\n",
      "Feature 57, weight: 0.5962753645882984\n",
      "Feature 58, weight: -0.016226225460516195\n",
      "\n",
      "largest absolute weight coefficient 28: weight: 0.9830097871812233\n",
      "intercept: 0.9637527252635822\n",
      "\n",
      "              precision    recall  f1-score   support\n",
      "\n",
      "           0       0.89      0.71      0.79        94\n",
      "           1       0.78      0.92      0.85       106\n",
      "\n",
      "    accuracy                           0.82       200\n",
      "   macro avg       0.84      0.82      0.82       200\n",
      "weighted avg       0.84      0.82      0.82       200\n",
      "\n",
      "Accuracy: 0.825\n",
      "\n",
      "\n"
     ]
    },
    {
     "data": {
      "image/png": "[encoded data removed]",
      "text/plain": [
       "<Figure size 432x288 with 2 Axes>"
      ]
     },
     "metadata": {
      "needs_background": "light"
     },
     "output_type": "display_data"
    },
    {
     "data": {
      "image/png": "[encoded data removed]",
      "text/plain": [
       "<Figure size 432x288 with 1 Axes>"
      ]
     },
     "metadata": {
      "needs_background": "light"
     },
     "output_type": "display_data"
    },
    {
     "name": "stdout",
     "output_type": "stream",
     "text": [
      "----------------------------------------------------------------------------------------------------\n",
      "\n",
      "\n",
      "\n",
      "\n",
      "Feature 0, weight: 0.044476788077643145\n",
      "Feature 1, weight: -0.023691239894098114\n",
      "Feature 2, weight: -0.005098710066915727\n",
      "Feature 3, weight: -0.032456747471994375\n",
      "Feature 4, weight: -0.05376404406102774\n",
      "Feature 5, weight: -0.27453378687072216\n",
      "Feature 6, weight: -0.05203284942142816\n",
      "Feature 7, weight: -0.03945337727843753\n",
      "Feature 8, weight: -0.0686596015308089\n",
      "Feature 9, weight: 0.07382047854791822\n",
      "Feature 10, weight: 0.006758923543566342\n",
      "Feature 11, weight: -0.7115618185520062\n",
      "Feature 12, weight: -0.10783890149452394\n",
      "Feature 13, weight: -0.044555402989069605\n",
      "Feature 14, weight: 0.04749889821768414\n",
      "Feature 15, weight: 0.0\n",
      "Feature 16, weight: -0.050461618359250955\n",
      "Feature 17, weight: -0.09675129878091572\n",
      "Feature 18, weight: -0.002789418107580357\n",
      "Feature 19, weight: -0.059896321832105824\n",
      "Feature 20, weight: -0.01302455215122864\n",
      "Feature 21, weight: -0.07623484264188457\n",
      "Feature 22, weight: -0.14085544048972384\n",
      "Feature 23, weight: 0.030502937625855563\n",
      "Feature 24, weight: -0.008646791399594114\n",
      "Feature 25, weight: 0.02416886144160457\n",
      "Feature 26, weight: -0.059340000579835725\n",
      "Feature 27, weight: -1.2534360990198812\n",
      "Feature 28, weight: 0.03824108916220281\n",
      "Feature 29, weight: -0.022936674356282473\n",
      "Feature 30, weight: -0.016210780029695067\n",
      "Feature 31, weight: -0.00899435897343221\n",
      "Feature 32, weight: -0.04446886107553235\n",
      "Feature 33, weight: -0.0909113557585359\n",
      "Feature 34, weight: -0.18274019061294455\n",
      "Feature 35, weight: -0.1424354229458734\n",
      "Feature 36, weight: -0.458813283459072\n",
      "Feature 37, weight: -0.15067324395062737\n",
      "Feature 38, weight: 0.0\n",
      "Feature 39, weight: -0.05785613351979226\n",
      "Feature 40, weight: 0.06603308673162721\n",
      "Feature 41, weight: -0.22594264596788882\n",
      "Feature 42, weight: -0.2738584144902523\n",
      "Feature 43, weight: -0.015682014483119604\n",
      "Feature 44, weight: -0.00864003975486621\n",
      "Feature 45, weight: 0.16075299549461375\n",
      "Feature 46, weight: 0.007176309403513059\n",
      "Feature 47, weight: -0.061062860333742384\n",
      "Feature 48, weight: 0.014555124599336078\n",
      "Feature 49, weight: 0.020247361220672725\n",
      "Feature 50, weight: -0.038295809267522914\n",
      "Feature 51, weight: -0.11119024787925348\n",
      "Feature 52, weight: 0.03812618597705949\n",
      "Feature 53, weight: -0.1449474918348066\n",
      "Feature 54, weight: 0.051568651685666475\n",
      "Feature 55, weight: 0.03694828603440773\n",
      "Feature 56, weight: 0.6899052339531878\n",
      "Feature 57, weight: 0.023388997627176847\n",
      "Feature 58, weight: -0.021985853155180164\n",
      "\n",
      "largest absolute weight coefficient 28: weight: 1.2534360990198812\n",
      "intercept: 1.7008245569137104\n",
      "\n",
      "              precision    recall  f1-score   support\n",
      "\n",
      "           0       0.87      0.70      0.78        74\n",
      "           1       0.84      0.94      0.89       126\n",
      "\n",
      "    accuracy                           0.85       200\n",
      "   macro avg       0.85      0.82      0.83       200\n",
      "weighted avg       0.85      0.85      0.85       200\n",
      "\n",
      "Accuracy: 0.85\n",
      "\n",
      "\n"
     ]
    },
    {
     "data": {
      "image/png": "[encoded data removed]",
      "text/plain": [
       "<Figure size 432x288 with 2 Axes>"
      ]
     },
     "metadata": {
      "needs_background": "light"
     },
     "output_type": "display_data"
    },
    {
     "data": {
      "image/png": "[encoded data removed]",
      "text/plain": [
       "<Figure size 432x288 with 1 Axes>"
      ]
     },
     "metadata": {
      "needs_background": "light"
     },
     "output_type": "display_data"
    },
    {
     "name": "stdout",
     "output_type": "stream",
     "text": [
      "----------------------------------------------------------------------------------------------------\n",
      "\n",
      "\n",
      "\n",
      "\n",
      "\n",
      "\n",
      "fold 1 score 0.83\n",
      "fold 2 score 0.805\n",
      "fold 3 score 0.815\n",
      "fold 4 score 0.825\n",
      "best score-> fold 5 score 0.85\n"
     ]
    }
   ],
   "source": [
    "kfold = KFold(n_splits=5, random_state=42, shuffle=True)\n",
    "kfold_cross_validition(kfold)\n"
   ]
  },
  {
   "cell_type": "markdown",
   "metadata": {
    "colab_type": "text",
    "id": "5ZE5vaHdQzr4"
   },
   "source": [
    "# Stratified KFold cross validation \n",
    "\n",
    "## Our data is unbalanced, so to ensure the classification results are as realistic as possible I chose to add Stratified KFold cross validation. \n",
    "\n",
    "The splitting of data into folds may be governed by criteria such as ensuring that each fold has the same proportion of observations with a given categorical value, such as the class outcome value. This is called stratified cross-validation.\n",
    "\n",
    "\n",
    "![](https://i.stack.imgur.com/B9CCp.png)"
   ]
  },
  {
   "cell_type": "code",
   "execution_count": 26,
   "metadata": {
    "colab": {
     "base_uri": "https://localhost:8080/"
    },
    "colab_type": "code",
    "id": "BXmtZZ0HQzr4",
    "outputId": "628bdc11-d0cb-4daf-9332-ea3dfae6d44e"
   },
   "outputs": [
    {
     "name": "stdout",
     "output_type": "stream",
     "text": [
      "Feature 0, weight: 0.03520157051898389\n",
      "Feature 1, weight: 0.006010978176080175\n",
      "Feature 2, weight: -0.020071964321535313\n",
      "Feature 3, weight: -0.021858320832505076\n",
      "Feature 4, weight: -0.06148400678108143\n",
      "Feature 5, weight: -0.040239995201877085\n",
      "Feature 6, weight: -0.05115453578328521\n",
      "Feature 7, weight: -0.038564815600077455\n",
      "Feature 8, weight: -0.053133791651281854\n",
      "Feature 9, weight: 0.02247248902426189\n",
      "Feature 10, weight: 0.10203342829785923\n",
      "Feature 11, weight: -0.8159544682848061\n",
      "Feature 12, weight: -0.06393488733681275\n",
      "Feature 13, weight: -0.03065213475401559\n",
      "Feature 14, weight: 0.05211116808241628\n",
      "Feature 15, weight: 0.0\n",
      "Feature 16, weight: -0.054367783002872476\n",
      "Feature 17, weight: -0.08203777416888033\n",
      "Feature 18, weight: -0.0247647634987644\n",
      "Feature 19, weight: -0.04930136492347638\n",
      "Feature 20, weight: -0.01514890139279148\n",
      "Feature 21, weight: -0.08711744972425461\n",
      "Feature 22, weight: -0.12896643152250628\n",
      "Feature 23, weight: -0.006834989330448789\n",
      "Feature 24, weight: -0.03710375036489433\n",
      "Feature 25, weight: -0.008674522417162054\n",
      "Feature 26, weight: -0.020760758201729273\n",
      "Feature 27, weight: -0.7626092613824044\n",
      "Feature 28, weight: 0.0543130262921001\n",
      "Feature 29, weight: -0.018289651136930995\n",
      "Feature 30, weight: 0.010277403293609431\n",
      "Feature 31, weight: -0.022502343447530986\n",
      "Feature 32, weight: -0.03413751079711248\n",
      "Feature 33, weight: -0.1005465243174716\n",
      "Feature 34, weight: -0.09271599160690015\n",
      "Feature 35, weight: -0.20228034116154672\n",
      "Feature 36, weight: -0.36379613754432977\n",
      "Feature 37, weight: -0.07432373750096018\n",
      "Feature 38, weight: 0.0\n",
      "Feature 39, weight: -0.025095576169192335\n",
      "Feature 40, weight: 0.07032835598674107\n",
      "Feature 41, weight: -0.20844630371902786\n",
      "Feature 42, weight: -0.2300617784406408\n",
      "Feature 43, weight: 0.005895662607489476\n",
      "Feature 44, weight: -0.008056391118633426\n",
      "Feature 45, weight: -0.09915411379201139\n",
      "Feature 46, weight: 0.026816610963085612\n",
      "Feature 47, weight: -0.06185126612113136\n",
      "Feature 48, weight: -0.017860446013996237\n",
      "Feature 49, weight: 0.017933834629896134\n",
      "Feature 50, weight: -0.03077381363565093\n",
      "Feature 51, weight: -0.0937638583579565\n",
      "Feature 52, weight: 0.04356161498396209\n",
      "Feature 53, weight: -0.13124077207111198\n",
      "Feature 54, weight: 0.04377309663201419\n",
      "Feature 55, weight: 0.04833084403102211\n",
      "Feature 56, weight: 0.36923404953133\n",
      "Feature 57, weight: 0.3141389038434075\n",
      "Feature 58, weight: -0.006529052228264147\n",
      "\n",
      "largest absolute weight coefficient 12: weight: 0.8159544682848061\n",
      "intercept: 1.1049076535019509\n",
      "\n",
      "              precision    recall  f1-score   support\n",
      "\n",
      "           0       0.84      0.71      0.77        73\n",
      "           1       0.85      0.92      0.88       127\n",
      "\n",
      "    accuracy                           0.84       200\n",
      "   macro avg       0.84      0.82      0.83       200\n",
      "weighted avg       0.84      0.84      0.84       200\n",
      "\n",
      "Accuracy: 0.845\n",
      "\n",
      "\n"
     ]
    },
    {
     "data": {
      "image/png": "[encoded data removed]",
      "text/plain": [
       "<Figure size 432x288 with 2 Axes>"
      ]
     },
     "metadata": {
      "needs_background": "light"
     },
     "output_type": "display_data"
    },
    {
     "data": {
      "image/png": "[encoded data removed]",
      "text/plain": [
       "<Figure size 432x288 with 1 Axes>"
      ]
     },
     "metadata": {
      "needs_background": "light"
     },
     "output_type": "display_data"
    },
    {
     "name": "stdout",
     "output_type": "stream",
     "text": [
      "----------------------------------------------------------------------------------------------------\n",
      "\n",
      "\n",
      "\n",
      "\n",
      "Feature 0, weight: 0.0394640899323258\n",
      "Feature 1, weight: -0.014477489918053029\n",
      "Feature 2, weight: -0.017548383195695315\n",
      "Feature 3, weight: -0.008666224054254525\n",
      "Feature 4, weight: -0.062332909395323655\n",
      "Feature 5, weight: -0.12138137668985789\n",
      "Feature 6, weight: -0.036916445200482706\n",
      "Feature 7, weight: -0.04983698287054916\n",
      "Feature 8, weight: -0.048042125534641315\n",
      "Feature 9, weight: 0.09087072740311435\n",
      "Feature 10, weight: 0.03671758270541441\n",
      "Feature 11, weight: -0.4781230091114396\n",
      "Feature 12, weight: -0.05754631407534163\n",
      "Feature 13, weight: -0.034495191208701696\n",
      "Feature 14, weight: 0.06445290821364776\n",
      "Feature 15, weight: 0.0\n",
      "Feature 16, weight: -0.056043032738904736\n",
      "Feature 17, weight: -0.06294335072977923\n",
      "Feature 18, weight: -0.02544102742607079\n",
      "Feature 19, weight: -0.05039313719828426\n",
      "Feature 20, weight: 0.00382739258318619\n",
      "Feature 21, weight: -0.071510124705212\n",
      "Feature 22, weight: -0.05485874664304066\n",
      "Feature 23, weight: -0.1735823465629478\n",
      "Feature 24, weight: -0.02180575126127456\n",
      "Feature 25, weight: -0.0192856034153935\n",
      "Feature 26, weight: -0.05431434843590361\n",
      "Feature 27, weight: -0.7820006845666302\n",
      "Feature 28, weight: 0.016203589941722107\n",
      "Feature 29, weight: -0.00841424966667423\n",
      "Feature 30, weight: 0.0010439376025525727\n",
      "Feature 31, weight: 0.0030806837234395356\n",
      "Feature 32, weight: -0.03297417384509582\n",
      "Feature 33, weight: -0.043588898586504415\n",
      "Feature 34, weight: -0.028858993353211376\n",
      "Feature 35, weight: -0.18146801318454533\n",
      "Feature 36, weight: -0.6392043773088643\n",
      "Feature 37, weight: -0.051154346002160414\n",
      "Feature 38, weight: 0.0\n",
      "Feature 39, weight: -0.04252469132539039\n",
      "Feature 40, weight: 0.08239858387379244\n",
      "Feature 41, weight: -0.22902296634728223\n",
      "Feature 42, weight: -0.4999626456698872\n",
      "Feature 43, weight: -0.01675275659437047\n",
      "Feature 44, weight: -0.02039089375221617\n",
      "Feature 45, weight: 0.05525686246709573\n",
      "Feature 46, weight: -0.028450155699830927\n",
      "Feature 47, weight: -0.023870582928942893\n",
      "Feature 48, weight: 0.023508292804451433\n",
      "Feature 49, weight: 0.008322299193836508\n",
      "Feature 50, weight: -0.031460010675980504\n",
      "Feature 51, weight: -0.13268022700154675\n",
      "Feature 52, weight: 0.015456333262208558\n",
      "Feature 53, weight: -0.0554081588457005\n",
      "Feature 54, weight: 0.012109128247949526\n",
      "Feature 55, weight: -0.0011467299399421421\n",
      "Feature 56, weight: 0.6331162249171889\n",
      "Feature 57, weight: 0.17285123343263764\n",
      "Feature 58, weight: -0.003974717874131003\n",
      "\n",
      "largest absolute weight coefficient 28: weight: 0.7820006845666302\n",
      "intercept: 1.1285359169369635\n",
      "\n",
      "              precision    recall  f1-score   support\n",
      "\n",
      "           0       0.79      0.66      0.72        73\n",
      "           1       0.82      0.90      0.86       127\n",
      "\n",
      "    accuracy                           0.81       200\n",
      "   macro avg       0.80      0.78      0.79       200\n",
      "weighted avg       0.81      0.81      0.81       200\n",
      "\n",
      "Accuracy: 0.81\n",
      "\n",
      "\n"
     ]
    },
    {
     "data": {
      "image/png": "[encoded data removed]",
      "text/plain": [
       "<Figure size 432x288 with 2 Axes>"
      ]
     },
     "metadata": {
      "needs_background": "light"
     },
     "output_type": "display_data"
    },
    {
     "data": {
      "image/png": "[encoded data removed]",
      "text/plain": [
       "<Figure size 432x288 with 1 Axes>"
      ]
     },
     "metadata": {
      "needs_background": "light"
     },
     "output_type": "display_data"
    },
    {
     "name": "stdout",
     "output_type": "stream",
     "text": [
      "----------------------------------------------------------------------------------------------------\n",
      "\n",
      "\n",
      "\n",
      "\n",
      "Feature 0, weight: 0.0403923849742407\n",
      "Feature 1, weight: 0.005444526665627799\n",
      "Feature 2, weight: 0.005784744718563445\n",
      "Feature 3, weight: -0.007053660166448175\n",
      "Feature 4, weight: -0.052924156607549774\n",
      "Feature 5, weight: -0.20490771298960994\n",
      "Feature 6, weight: -0.04938363239123025\n",
      "Feature 7, weight: -0.04226945723419592\n",
      "Feature 8, weight: -0.07974306196222646\n",
      "Feature 9, weight: 0.12291529794669794\n",
      "Feature 10, weight: 0.05370072522686867\n",
      "Feature 11, weight: -0.8614316415525199\n",
      "Feature 12, weight: -0.08758081733841061\n",
      "Feature 13, weight: -0.04059526621084934\n",
      "Feature 14, weight: 0.008939372703404636\n",
      "Feature 15, weight: 0.0\n",
      "Feature 16, weight: -0.049452400955049686\n",
      "Feature 17, weight: 0.011456637671984633\n",
      "Feature 18, weight: -0.025535003893581428\n",
      "Feature 19, weight: -0.0827451498627714\n",
      "Feature 20, weight: -0.05546912441180935\n",
      "Feature 21, weight: -0.06431650096919336\n",
      "Feature 22, weight: -0.14454806694380845\n",
      "Feature 23, weight: -0.09002593121495346\n",
      "Feature 24, weight: 0.0036644733849247406\n",
      "Feature 25, weight: 0.08439403027796477\n",
      "Feature 26, weight: -0.03482518439892174\n",
      "Feature 27, weight: -1.194518543790634\n",
      "Feature 28, weight: 0.08816883125683704\n",
      "Feature 29, weight: -0.03570201794090573\n",
      "Feature 30, weight: -0.0030165681913136943\n",
      "Feature 31, weight: -0.0004560707863940098\n",
      "Feature 32, weight: -0.07432069695203426\n",
      "Feature 33, weight: -0.11321392082848733\n",
      "Feature 34, weight: -0.10936204998722357\n",
      "Feature 35, weight: -0.1735588873724353\n",
      "Feature 36, weight: -0.6594964118817244\n",
      "Feature 37, weight: -0.12430784814686169\n",
      "Feature 38, weight: 0.0\n",
      "Feature 39, weight: -0.05022622859387283\n",
      "Feature 40, weight: 0.049684125427654144\n",
      "Feature 41, weight: -0.15027870037781624\n",
      "Feature 42, weight: -0.15548903579463436\n",
      "Feature 43, weight: -0.008592447351228464\n",
      "Feature 44, weight: -0.01885285295085502\n",
      "Feature 45, weight: 0.05266862259555742\n",
      "Feature 46, weight: -0.04244276080492678\n",
      "Feature 47, weight: -0.08751275061770572\n",
      "Feature 48, weight: 0.05913852199523441\n",
      "Feature 49, weight: 0.024919971397974597\n",
      "Feature 50, weight: -0.005867671279259079\n",
      "Feature 51, weight: -0.17464164247409442\n",
      "Feature 52, weight: 0.0518107326765637\n",
      "Feature 53, weight: -0.17436942059820937\n",
      "Feature 54, weight: 0.09098249727944166\n",
      "Feature 55, weight: 0.042362970538087935\n",
      "Feature 56, weight: 0.24643280669643447\n",
      "Feature 57, weight: -0.38136582973694877\n",
      "Feature 58, weight: 0.006236937423597405\n",
      "\n",
      "largest absolute weight coefficient 28: weight: 1.194518543790634\n",
      "intercept: 1.8290188639438856\n",
      "\n",
      "              precision    recall  f1-score   support\n",
      "\n",
      "           0       0.85      0.73      0.79        73\n",
      "           1       0.86      0.93      0.89       127\n",
      "\n",
      "    accuracy                           0.85       200\n",
      "   macro avg       0.85      0.83      0.84       200\n",
      "weighted avg       0.85      0.85      0.85       200\n",
      "\n",
      "Accuracy: 0.855\n",
      "\n",
      "\n"
     ]
    },
    {
     "data": {
      "image/png": "[encoded data removed]",
      "text/plain": [
       "<Figure size 432x288 with 2 Axes>"
      ]
     },
     "metadata": {
      "needs_background": "light"
     },
     "output_type": "display_data"
    },
    {
     "data": {
      "image/png": "[encoded data removed]",
      "text/plain": [
       "<Figure size 432x288 with 1 Axes>"
      ]
     },
     "metadata": {
      "needs_background": "light"
     },
     "output_type": "display_data"
    },
    {
     "name": "stdout",
     "output_type": "stream",
     "text": [
      "----------------------------------------------------------------------------------------------------\n",
      "\n",
      "\n",
      "\n",
      "\n",
      "Feature 0, weight: 0.04170313976749231\n",
      "Feature 1, weight: -0.0015534350669483626\n",
      "Feature 2, weight: -0.014395582060885675\n",
      "Feature 3, weight: -0.010366818171413288\n",
      "Feature 4, weight: -0.05966963017063139\n",
      "Feature 5, weight: -0.07849885561777536\n",
      "Feature 6, weight: -0.04974539523949577\n",
      "Feature 7, weight: -0.052041948625441474\n",
      "Feature 8, weight: -0.0638270448250979\n",
      "Feature 9, weight: 0.03834890436133658\n",
      "Feature 10, weight: -0.027501314469867186\n",
      "Feature 11, weight: -0.8663533161820686\n",
      "Feature 12, weight: -0.08764855903132161\n",
      "Feature 13, weight: -0.03557354861751978\n",
      "Feature 14, weight: 0.061680964450986996\n",
      "Feature 15, weight: 0.0\n",
      "Feature 16, weight: -0.06309024074259788\n",
      "Feature 17, weight: -0.05466778479107662\n",
      "Feature 18, weight: -0.0932140146642073\n",
      "Feature 19, weight: -0.04339184823212725\n",
      "Feature 20, weight: -0.03970730011143913\n",
      "Feature 21, weight: -0.07641902626868954\n",
      "Feature 22, weight: -0.018829566533766957\n",
      "Feature 23, weight: -0.13736016355918093\n",
      "Feature 24, weight: -0.003540173337914184\n",
      "Feature 25, weight: -0.00376823317717365\n",
      "Feature 26, weight: -0.05390116800333594\n",
      "Feature 27, weight: -1.6508072730053853\n",
      "Feature 28, weight: -0.07342423828630171\n",
      "Feature 29, weight: -0.006601307897453531\n",
      "Feature 30, weight: 0.008360309490687392\n",
      "Feature 31, weight: -0.00020359664868130757\n",
      "Feature 32, weight: -0.013670794322732738\n",
      "Feature 33, weight: -0.028882625332161394\n",
      "Feature 34, weight: -0.04062637569734934\n",
      "Feature 35, weight: -0.04910340000350156\n",
      "Feature 36, weight: -0.42450938253584874\n",
      "Feature 37, weight: -0.20342266776983642\n",
      "Feature 38, weight: 0.0\n",
      "Feature 39, weight: -0.03752367527078122\n",
      "Feature 40, weight: 0.03338925061744065\n",
      "Feature 41, weight: -0.3867476269828046\n",
      "Feature 42, weight: -0.01938949403603948\n",
      "Feature 43, weight: 0.023034079727129512\n",
      "Feature 44, weight: -0.016176692911195743\n",
      "Feature 45, weight: -0.05516921642738262\n",
      "Feature 46, weight: 0.04256323471762709\n",
      "Feature 47, weight: 0.0\n",
      "Feature 48, weight: 0.016968974708138455\n",
      "Feature 49, weight: 0.017521175483597905\n",
      "Feature 50, weight: -0.03097945682131356\n",
      "Feature 51, weight: -0.14534214020173844\n",
      "Feature 52, weight: -0.006601307897453531\n",
      "Feature 53, weight: -0.07342423828630171\n",
      "Feature 54, weight: -0.028882625332161394\n",
      "Feature 55, weight: -0.013670794322732738\n",
      "Feature 56, weight: 0.6932104116727601\n",
      "Feature 57, weight: 0.37034300268701004\n",
      "Feature 58, weight: 0.004595719928990329\n",
      "\n",
      "largest absolute weight coefficient 28: weight: 1.6508072730053853\n",
      "intercept: 0.8079203130572483\n",
      "\n",
      "              precision    recall  f1-score   support\n",
      "\n",
      "           0       0.82      0.73      0.77        73\n",
      "           1       0.85      0.91      0.88       127\n",
      "\n",
      "    accuracy                           0.84       200\n",
      "   macro avg       0.83      0.82      0.82       200\n",
      "weighted avg       0.84      0.84      0.84       200\n",
      "\n",
      "Accuracy: 0.84\n",
      "\n",
      "\n"
     ]
    },
    {
     "data": {
      "image/png": "[encoded data removed]",
      "text/plain": [
       "<Figure size 432x288 with 2 Axes>"
      ]
     },
     "metadata": {
      "needs_background": "light"
     },
     "output_type": "display_data"
    },
    {
     "data": {
      "image/png": "[encoded data removed]",
      "text/plain": [
       "<Figure size 432x288 with 1 Axes>"
      ]
     },
     "metadata": {
      "needs_background": "light"
     },
     "output_type": "display_data"
    },
    {
     "name": "stdout",
     "output_type": "stream",
     "text": [
      "----------------------------------------------------------------------------------------------------\n",
      "\n",
      "\n",
      "\n",
      "\n",
      "Feature 0, weight: 0.04063190063868694\n",
      "Feature 1, weight: -0.006166454847239544\n",
      "Feature 2, weight: -0.014871887347697225\n",
      "Feature 3, weight: -0.024548544002119765\n",
      "Feature 4, weight: -0.07832221907690791\n",
      "Feature 5, weight: -0.2645107916985586\n",
      "Feature 6, weight: -0.06074614203937127\n",
      "Feature 7, weight: -0.04421452800030671\n",
      "Feature 8, weight: -0.05789167007901572\n",
      "Feature 9, weight: 0.0641232867312915\n",
      "Feature 10, weight: 0.05991734192019772\n",
      "Feature 11, weight: -0.798808080045803\n",
      "Feature 12, weight: -0.10236393808889306\n",
      "Feature 13, weight: -0.02853160036449922\n",
      "Feature 14, weight: -0.007548990525979623\n",
      "Feature 15, weight: 0.0\n",
      "Feature 16, weight: -0.047253770140559634\n",
      "Feature 17, weight: -0.014198163546889688\n",
      "Feature 18, weight: -0.013033105242529703\n",
      "Feature 19, weight: -0.05765412928453386\n",
      "Feature 20, weight: -0.06659888840473355\n",
      "Feature 21, weight: -0.0694189094938952\n",
      "Feature 22, weight: -0.11461520122012858\n",
      "Feature 23, weight: 0.04318888497350297\n",
      "Feature 24, weight: 0.009416860043845272\n",
      "Feature 25, weight: -0.05326246994486676\n",
      "Feature 26, weight: -0.003139480029894855\n",
      "Feature 27, weight: -1.3131739043272048\n",
      "Feature 28, weight: 0.1702591486823913\n",
      "Feature 29, weight: -0.05622333209689152\n",
      "Feature 30, weight: -0.01549775785985126\n",
      "Feature 31, weight: -0.02837154717840701\n",
      "Feature 32, weight: -0.10236810788740605\n",
      "Feature 33, weight: -0.16280351884359598\n",
      "Feature 34, weight: -0.14231532582103304\n",
      "Feature 35, weight: -0.16281026577654487\n",
      "Feature 36, weight: -0.42961859602685587\n",
      "Feature 37, weight: -0.10832559812695929\n",
      "Feature 38, weight: 0.0\n",
      "Feature 39, weight: -0.0589580015190237\n",
      "Feature 40, weight: 0.10004358104761733\n",
      "Feature 41, weight: -0.21076897589316942\n",
      "Feature 42, weight: -0.1140231893595775\n",
      "Feature 43, weight: -0.026470590107115305\n",
      "Feature 44, weight: 0.0006254899328166949\n",
      "Feature 45, weight: 0.1798462084623001\n",
      "Feature 46, weight: -0.01597392557454196\n",
      "Feature 47, weight: -0.12540511381076908\n",
      "Feature 48, weight: 0.043870319615747146\n",
      "Feature 49, weight: 0.04374427297546191\n",
      "Feature 50, weight: -0.01360132230096352\n",
      "Feature 51, weight: -0.1145925060100608\n",
      "Feature 52, weight: 0.06918178171466285\n",
      "Feature 53, weight: -0.20595619275113972\n",
      "Feature 54, weight: 0.1298084133834377\n",
      "Feature 55, weight: 0.06483871052696619\n",
      "Feature 56, weight: 0.8361295842414287\n",
      "Feature 57, weight: 0.2802881541819769\n",
      "Feature 58, weight: -0.015134571295881558\n",
      "\n",
      "largest absolute weight coefficient 28: weight: 1.3131739043272048\n",
      "intercept: 1.1513386158526089\n",
      "\n",
      "              precision    recall  f1-score   support\n",
      "\n",
      "           0       0.83      0.62      0.71        73\n",
      "           1       0.81      0.93      0.86       127\n",
      "\n",
      "    accuracy                           0.81       200\n",
      "   macro avg       0.82      0.77      0.79       200\n",
      "weighted avg       0.82      0.81      0.81       200\n",
      "\n",
      "Accuracy: 0.815\n",
      "\n",
      "\n"
     ]
    },
    {
     "data": {
      "image/png": "[encoded data removed]",
      "text/plain": [
       "<Figure size 432x288 with 2 Axes>"
      ]
     },
     "metadata": {
      "needs_background": "light"
     },
     "output_type": "display_data"
    },
    {
     "data": {
      "image/png": "[encoded data removed]",
      "text/plain": [
       "<Figure size 432x288 with 1 Axes>"
      ]
     },
     "metadata": {
      "needs_background": "light"
     },
     "output_type": "display_data"
    },
    {
     "name": "stdout",
     "output_type": "stream",
     "text": [
      "----------------------------------------------------------------------------------------------------\n",
      "\n",
      "\n",
      "\n",
      "\n",
      "\n",
      "\n",
      "fold 1 score 0.845\n",
      "fold 2 score 0.81\n",
      "best score-> fold 3 score 0.855\n",
      "fold 4 score 0.84\n",
      "fold 5 score 0.815\n"
     ]
    }
   ],
   "source": [
    "stratifiedKFold = StratifiedKFold(n_splits=5, random_state=42, shuffle=True)\n",
    "kfold_cross_validition(stratifiedKFold)"
   ]
  },
  {
   "cell_type": "markdown",
   "metadata": {
    "colab_type": "text",
    "id": "-ZFjETt_yBx_"
   },
   "source": [
    "# Linear Regression \n",
    "Assumptions of the Model\n",
    "\n",
    "* Regression residuals must be normally distributed.\n",
    "* A linear relationship is assumed between the dependent variable and the independent variables.\n",
    "* The residuals are homoscedastic and approximately rectangular-shaped.\n",
    "* Absence of multicollinearity is expected in the model, meaning that independent variables are not too highly correlated.\n",
    "* No Autocorrelation of the residuals."
   ]
  },
  {
   "cell_type": "code",
   "execution_count": 27,
   "metadata": {
    "colab": {},
    "colab_type": "code",
    "id": "3I8SIBZfHXnM"
   },
   "outputs": [],
   "source": [
    "import numpy as np\n",
    "import pandas as pd\n",
    "from scipy import stats\n",
    "import matplotlib.pyplot as plt\n",
    "\n",
    "from sklearn.linear_model import LinearRegression, Ridge, Lasso\n",
    "from sklearn.model_selection import train_test_split\n",
    "from sklearn.metrics import mean_squared_error\n",
    "import scipy\n"
   ]
  },
  {
   "cell_type": "code",
   "execution_count": 28,
   "metadata": {
    "colab": {},
    "colab_type": "code",
    "id": "9XpI2rTLe15T"
   },
   "outputs": [],
   "source": [
    "def get_X_y_regression(split_data=False):\n",
    "    X, _ = get_X_y()\n",
    "\n",
    "    X = df.drop(['Feature 59', 'Feature 60'], axis=1) # The binary label Y (Feature 60) is erased, number 59, which holds a ‘text complexity’ value for each article, is examined.\n",
    "    y = df[['Feature 59']]\n",
    "    if split_data:\n",
    "        return train_test_split(X, y, test_size=0.10, random_state=42)\n",
    "        \n",
    "    return X, y\n",
    "\n",
    "X_train, X_test, y_train, y_test = get_X_y_regression(split_data=True)\n",
    "# create a Linear Regression model object\n",
    "regression_model = LinearRegression()"
   ]
  },
  {
   "cell_type": "code",
   "execution_count": 29,
   "metadata": {
    "colab": {
     "base_uri": "https://localhost:8080/"
    },
    "colab_type": "code",
    "id": "ZEn7lwgMfCwR",
    "outputId": "d6c86803-7d26-47b3-9bf2-0843b0d34e8f"
   },
   "outputs": [
    {
     "name": "stdout",
     "output_type": "stream",
     "text": [
      "Feature 0, weight: 0.14253426445352868\n",
      "Feature 1, weight: -0.0014693302513839046\n",
      "Feature 2, weight: -0.036125102951245325\n",
      "Feature 3, weight: -0.17804133431739214\n",
      "Feature 4, weight: -0.08177626590383011\n",
      "Feature 5, weight: -0.14079820834677742\n",
      "Feature 6, weight: -0.09307530539303377\n",
      "Feature 7, weight: -0.1299770949119504\n",
      "Feature 8, weight: -0.12167695144978188\n",
      "Feature 9, weight: 0.117419478197478\n",
      "Feature 10, weight: -0.19781949312818203\n",
      "Feature 11, weight: -0.5111147226814667\n",
      "Feature 12, weight: -0.2274645378349532\n",
      "Feature 13, weight: -0.13228854938327778\n",
      "Feature 14, weight: -0.03232118471194825\n",
      "Feature 15, weight: -1.6930901125533637e-15\n",
      "Feature 16, weight: -0.11620044281306915\n",
      "Feature 17, weight: -0.38759727326591753\n",
      "Feature 18, weight: 0.016023250632842503\n",
      "Feature 19, weight: -0.11451010235986243\n",
      "Feature 20, weight: -0.14841071326210928\n",
      "Feature 21, weight: -0.15209032835753944\n",
      "Feature 22, weight: 0.04884012776642263\n",
      "Feature 23, weight: 0.0008788852651341883\n",
      "Feature 24, weight: -0.17924766240805076\n",
      "Feature 25, weight: -0.04053735335909053\n",
      "Feature 26, weight: -0.17086994003079334\n",
      "Feature 27, weight: -1.5523484606324036\n",
      "Feature 28, weight: 0.10394657597867696\n",
      "Feature 29, weight: -0.12730174328588062\n",
      "Feature 30, weight: -0.0813409942879163\n",
      "Feature 31, weight: -0.14677396782249136\n",
      "Feature 32, weight: -0.17500105564443647\n",
      "Feature 33, weight: -0.21723935620403523\n",
      "Feature 34, weight: -0.29723768773320963\n",
      "Feature 35, weight: -0.08787876013226475\n",
      "Feature 36, weight: -0.2520437774242823\n",
      "Feature 37, weight: -0.2960770111715382\n",
      "Feature 38, weight: 1.6375789613221059e-15\n",
      "Feature 39, weight: -0.17229473060620648\n",
      "Feature 40, weight: -0.147269388134378\n",
      "Feature 41, weight: -0.6722104870943578\n",
      "Feature 42, weight: -0.6593461168069973\n",
      "Feature 43, weight: -0.35264922935300536\n",
      "Feature 44, weight: -0.08660624241059223\n",
      "Feature 45, weight: 0.15303260621299566\n",
      "Feature 46, weight: -0.2765359070998996\n",
      "Feature 47, weight: -0.15241227916971162\n",
      "Feature 48, weight: 0.08078496275177999\n",
      "Feature 49, weight: -0.012841928666038172\n",
      "Feature 50, weight: 0.022114959398255696\n",
      "Feature 51, weight: -0.233897374125436\n",
      "Feature 52, weight: 0.025110535883835966\n",
      "Feature 53, weight: -0.35329026153047394\n",
      "Feature 54, weight: 0.1383892951919804\n",
      "Feature 55, weight: 0.028215316581859495\n",
      "Feature 56, weight: -0.16892415980939904\n",
      "Feature 57, weight: -3.7387287007102783\n",
      "\n",
      "largest absolute weight coefficient 58: weight: 3.7387287007102783\n",
      "intercept: 21.776255973985105\n",
      "\n"
     ]
    }
   ],
   "source": [
    "# pass through the X_train & y_train data set\n",
    "regression_model.fit(X_train, y_train);\n",
    "find_model_weights(regression_model)"
   ]
  },
  {
   "cell_type": "code",
   "execution_count": 30,
   "metadata": {
    "colab": {},
    "colab_type": "code",
    "id": "3le94uPHjC3_"
   },
   "outputs": [],
   "source": [
    "def show_regression_result(y_test, y_pred, k=59, alpha=0.05):\n",
    "    y_test = np.array(y_test)\n",
    "    y_pred = np.array(y_pred)\n",
    "    n = len(y_test)\n",
    "    dof = n-k-1\n",
    "    \n",
    "    # Sum Square Error\n",
    "    error = y_pred - y_test  \n",
    "    sse = np.sum(np.power(error, 2))\n",
    "    \n",
    "    #Sum Square Residual\n",
    "    y_test_mean = np.mean(y_pred)\n",
    "    mean = y_pred - y_test_mean\n",
    "    ssr = np.sum(np.power(mean, 2))\n",
    "\n",
    "    #Statics\n",
    "    sst = sse + ssr\n",
    "    r2 = ssr/ sst\n",
    "    msr = ssr/ k\n",
    "    mse = sse/ dof\n",
    "\n",
    "    #Confidents\n",
    "    f_stat =  msr/ mse\n",
    "    p_val = 1 - scipy.stats.f.cdf(f_stat, n, k)\n",
    "    \n",
    "    \n",
    "    print(f'MSE: : {mse}')\n",
    "    print(f'R2: : {r2}')\n",
    "    print(f'The F test statistic is {f_stat} and the corresponding p-value is {p_val}.')\n",
    "    less_big = ['less', 'bigger']\n",
    "    reject_excapt = ['reject', 'excapt']\n",
    "    print(f'Since this p-value is {less_big[bool(p_val > alpha)]} than {alpha},', end=' ')\n",
    "    print(f'we would {reject_excapt[bool(p_val > alpha)]} the null hypothesis.\\n')#, end='\\n')     \n",
    "    return r2, mse, f_stat, p_val\n",
    "\n"
   ]
  },
  {
   "cell_type": "markdown",
   "metadata": {
    "colab_type": "text",
    "id": "aoZUHuNkx4Ch"
   },
   "source": [
    "# a. Split the data into 90:10 of Train:Test and Construct a linear regression model on the train data. Use the constructed model to predict the label of the test data. Evaluate the model using the metrics MSE, 𝑅2,𝐹_𝑠𝑐𝑜𝑟𝑒,𝑃_𝑣𝑎𝑙 both on Train and Val."
   ]
  },
  {
   "cell_type": "code",
   "execution_count": 31,
   "metadata": {},
   "outputs": [
    {
     "name": "stdout",
     "output_type": "stream",
     "text": [
      "MSE: : 81.22144344403837\n",
      "R2: : 0.5269082416651042\n",
      "The F test statistic is 0.7873094649102389 and the corresponding p-value is 0.8535146553424413.\n",
      "Since this p-value is bigger than 0.05, we would excapt the null hypothesis.\n",
      "\n"
     ]
    }
   ],
   "source": [
    "regression_model.fit(X_train, y_train);\n",
    "regression_predictions = regression_model.predict(X_test)\n",
    "param = show_regression_result(y_test, \n",
    "                               regression_predictions, \n",
    "                               len(X_train.columns))\n"
   ]
  },
  {
   "cell_type": "markdown",
   "metadata": {
    "colab_type": "text",
    "id": "JxbIImi-yTm4"
   },
   "source": [
    "# b. Repeat the previous step the 100 first rows as train and next 100 rows as Test.\n"
   ]
  },
  {
   "cell_type": "code",
   "execution_count": 32,
   "metadata": {
    "colab": {
     "base_uri": "https://localhost:8080/"
    },
    "colab_type": "code",
    "id": "pIoFO7g9yX2G",
    "outputId": "0572203d-256f-474c-83c9-e79d133c91cd"
   },
   "outputs": [
    {
     "name": "stdout",
     "output_type": "stream",
     "text": [
      "Feature 0, weight: 0.41851478943230974\n",
      "Feature 1, weight: -0.22287220899655158\n",
      "Feature 2, weight: 0.1600519716794906\n",
      "Feature 3, weight: -0.3149806943785766\n",
      "Feature 4, weight: -0.2739471260341473\n",
      "Feature 5, weight: -0.15460268634554641\n",
      "Feature 6, weight: -0.05284982546821815\n",
      "Feature 7, weight: -0.5525625222037405\n",
      "Feature 8, weight: -0.31343791907058444\n",
      "Feature 9, weight: 1.7745559281844172\n",
      "Feature 10, weight: -0.9304264866979488\n",
      "Feature 11, weight: 1.6653345369377348e-15\n",
      "Feature 12, weight: -0.9050755728593165\n",
      "Feature 13, weight: -0.3801672766274285\n",
      "Feature 14, weight: -0.29667144873688267\n",
      "Feature 15, weight: 4.111294638065033e-15\n",
      "Feature 16, weight: -0.31879226227333834\n",
      "Feature 17, weight: 1.2011058018555634\n",
      "Feature 18, weight: -0.5237199422920256\n",
      "Feature 19, weight: -0.2533603373725395\n",
      "Feature 20, weight: -1.0513747218469676\n",
      "Feature 21, weight: -0.3123699818885126\n",
      "Feature 22, weight: 0.412460924143613\n",
      "Feature 23, weight: -2.110638972340791\n",
      "Feature 24, weight: 0.20557857976658545\n",
      "Feature 25, weight: 0.3013391192782045\n",
      "Feature 26, weight: -0.5103176222036411\n",
      "Feature 27, weight: 3.1342185537701064\n",
      "Feature 28, weight: 0.15610222123756895\n",
      "Feature 29, weight: -0.1100103644762242\n",
      "Feature 30, weight: -0.08727875886482384\n",
      "Feature 31, weight: -0.30520108058623774\n",
      "Feature 32, weight: -0.15538562777339396\n",
      "Feature 33, weight: -0.0027851241265519078\n",
      "Feature 34, weight: 0.12610691861346668\n",
      "Feature 35, weight: -0.8979200562136109\n",
      "Feature 36, weight: -1.3574816119430282\n",
      "Feature 37, weight: -1.0069440509277556\n",
      "Feature 38, weight: 2.6645352591003757e-15\n",
      "Feature 39, weight: -0.683430850364634\n",
      "Feature 40, weight: -0.025531151816835518\n",
      "Feature 41, weight: -2.318508908052517\n",
      "Feature 42, weight: -1.057228011697093\n",
      "Feature 43, weight: -1.032769702156256\n",
      "Feature 44, weight: -0.5530788426136988\n",
      "Feature 45, weight: 1.5505133033033944\n",
      "Feature 46, weight: -0.15911543686563423\n",
      "Feature 47, weight: 0.0\n",
      "Feature 48, weight: 0.4656313292909253\n",
      "Feature 49, weight: -1.0002187869953354\n",
      "Feature 50, weight: 0.27244140074329226\n",
      "Feature 51, weight: -0.8540486067107105\n",
      "Feature 52, weight: -0.11001036447620527\n",
      "Feature 53, weight: 0.15610222123756268\n",
      "Feature 54, weight: -0.0027851241265508253\n",
      "Feature 55, weight: -0.15538562777338866\n",
      "Feature 56, weight: -1.2533848541962969\n",
      "Feature 57, weight: -1.9331636902797416\n",
      "\n",
      "largest absolute weight coefficient 28: weight: 3.1342185537701064\n",
      "intercept: 18.132652659729537\n",
      "\n"
     ]
    }
   ],
   "source": [
    "X, y = get_X_y_regression()\n",
    "X_train, X_test, y_train, y_test = X[:100], X[100:200], y[:100], y[100:200]\n",
    "# pass through the X_train & y_train data set\n",
    "regression_model.fit(X_train, y_train);\n",
    "find_model_weights(regression_model)"
   ]
  },
  {
   "cell_type": "code",
   "execution_count": 33,
   "metadata": {
    "colab": {
     "base_uri": "https://localhost:8080/"
    },
    "colab_type": "code",
    "id": "HwOE_lZJyXGf",
    "outputId": "48dc02ce-0a03-46aa-d3ac-0fc0e3c67720"
   },
   "outputs": [
    {
     "name": "stdout",
     "output_type": "stream",
     "text": [
      "MSE: : 176.5352328978821\n",
      "R2: : 0.6194634140579434\n",
      "The F test statistic is 1.1507344299964355 and the corresponding p-value is 0.2826816403217516.\n",
      "Since this p-value is bigger than 0.05, we would excapt the null hypothesis.\n",
      "\n"
     ]
    }
   ],
   "source": [
    "pred = regression_model.predict(X_test)\n",
    "param = show_regression_result( y_test, pred, \n",
    "                               len(X_train.columns))"
   ]
  },
  {
   "cell_type": "markdown",
   "metadata": {
    "colab_type": "text",
    "id": "uuAw1sTRKMlw"
   },
   "source": [
    "# Regularizations\n",
    "If your linear model contains many predictor variables or if these variables are correlated, the standard OLS parameter estimates have large variance, thus making the model unreliable.\n",
    "\n",
    "To counter this, you can use regularization - a technique allowing to decrease this variance at the cost of introducing some bias. Finding a good bias-variance trade-off allows to minimize the model's total error.\n",
    "\n",
    "There are three popular regularization techniques, each of them aiming at decreasing the size of the coefficients:\n",
    "* Ridge Regression, which penalizes sum of squared coefficients (L2 penalty).\n",
    "* Lasso Regression, which penalizes the sum of absolute values of the coefficients (L1 penalty).\n",
    "* Elastic Net, a convex combination of Ridge and Lasso.\n",
    "![](https://miro.medium.com/max/1050/1*Jd03Hyt2bpEv1r7UijLlpg.png)\n",
    "\n",
    "# Sources:\n",
    "* [ridge-and-lasso-regression-a-complete-guide-with-python-scikit-learn](https://towardsdatascience.com/ridge-and-lasso-regression-a-complete-guide-with-python-scikit-learn-e20e34bcbf0b)\n",
    "\n",
    "* [tutorial-ridge-lasso-elastic-net](https://www.datacamp.com/community/tutorials/tutorial-ridge-lasso-elastic-net)"
   ]
  },
  {
   "cell_type": "markdown",
   "metadata": {
    "colab_type": "text",
    "id": "EmP86QlnFmpa"
   },
   "source": [
    "# c. Repeat the previous step with Ridge regularization of lambda = 0.01.\n",
    "[Ridge Regression for Better Usage](https://towardsdatascience.com/ridge-regression-for-better-usage-2f19b3a202db)\n",
    "\n",
    "\n",
    "![](https://res.cloudinary.com/dyd911kmh/image/upload/f_auto,q_auto:best/v1543418449/eq7_ylxudw.png)"
   ]
  },
  {
   "cell_type": "code",
   "execution_count": 34,
   "metadata": {
    "colab": {
     "base_uri": "https://localhost:8080/"
    },
    "colab_type": "code",
    "id": "ytoyLyQ5yWfe",
    "outputId": "80748bc8-3bcb-4a68-d10a-f273f4431dd8"
   },
   "outputs": [
    {
     "name": "stdout",
     "output_type": "stream",
     "text": [
      "Feature 0, weight: 0.14253132364447801\n",
      "Feature 1, weight: -0.0014677180646357072\n",
      "Feature 2, weight: -0.03612577641372628\n",
      "Feature 3, weight: -0.17803902798911084\n",
      "Feature 4, weight: -0.08177599565169981\n",
      "Feature 5, weight: -0.14081172331769864\n",
      "Feature 6, weight: -0.09307415315377086\n",
      "Feature 7, weight: -0.1299713191497144\n",
      "Feature 8, weight: -0.12167474936813195\n",
      "Feature 9, weight: 0.11741500397062235\n",
      "Feature 10, weight: -0.19783192632085853\n",
      "Feature 11, weight: -0.5109857059002365\n",
      "Feature 12, weight: -0.22744576824852408\n",
      "Feature 13, weight: -0.13228666032050618\n",
      "Feature 14, weight: -0.03232309938891257\n",
      "Feature 15, weight: 0.0\n",
      "Feature 16, weight: -0.11619912651738594\n",
      "Feature 17, weight: -0.38756406837831886\n",
      "Feature 18, weight: 0.0160358087507212\n",
      "Feature 19, weight: -0.1145121975117795\n",
      "Feature 20, weight: -0.1484099279430098\n",
      "Feature 21, weight: -0.1520909106546466\n",
      "Feature 22, weight: 0.04882862634142274\n",
      "Feature 23, weight: 0.0008904230829195383\n",
      "Feature 24, weight: -0.17924024558585636\n",
      "Feature 25, weight: -0.04052807881944578\n",
      "Feature 26, weight: -0.17086357187981613\n",
      "Feature 27, weight: -1.5520964849208132\n",
      "Feature 28, weight: 0.10391988438583873\n",
      "Feature 29, weight: -0.12728978604386032\n",
      "Feature 30, weight: -0.08134484189585126\n",
      "Feature 31, weight: -0.14676669786003757\n",
      "Feature 32, weight: -0.1749861125095019\n",
      "Feature 33, weight: -0.21721777262207437\n",
      "Feature 34, weight: -0.29723608466280055\n",
      "Feature 35, weight: -0.08788206570078015\n",
      "Feature 36, weight: -0.25204699191485275\n",
      "Feature 37, weight: -0.2960583457805815\n",
      "Feature 38, weight: 0.0\n",
      "Feature 39, weight: -0.17228943473092823\n",
      "Feature 40, weight: -0.14727361600793273\n",
      "Feature 41, weight: -0.6722080942384604\n",
      "Feature 42, weight: -0.6593552766623209\n",
      "Feature 43, weight: -0.35264678812708294\n",
      "Feature 44, weight: -0.08660606766919442\n",
      "Feature 45, weight: 0.15305100712062406\n",
      "Feature 46, weight: -0.27651374390944156\n",
      "Feature 47, weight: -0.15239607506369846\n",
      "Feature 48, weight: 0.08079127196093754\n",
      "Feature 49, weight: -0.012837690110064177\n",
      "Feature 50, weight: 0.022114831942021965\n",
      "Feature 51, weight: -0.23389264310663577\n",
      "Feature 52, weight: 0.02510632050703378\n",
      "Feature 53, weight: -0.3532683297809177\n",
      "Feature 54, weight: 0.1383730565748351\n",
      "Feature 55, weight: 0.028208651800230394\n",
      "Feature 56, weight: -0.16903054903374462\n",
      "Feature 57, weight: -3.729057499006943\n",
      "\n",
      "largest absolute weight coefficient 58: weight: 3.729057499006943\n",
      "intercept: 21.766771593662416\n",
      "\n"
     ]
    }
   ],
   "source": [
    "from sklearn.linear_model import Ridge\n",
    "X_train, X_test, y_train, y_test = get_X_y_regression(split_data=True)\n",
    "\n",
    "alpha = 0.01\n",
    "ridge = Ridge(alpha=alpha).fit(X_train, y_train);\n",
    "find_model_weights(ridge)\n"
   ]
  },
  {
   "cell_type": "code",
   "execution_count": 35,
   "metadata": {
    "colab": {
     "base_uri": "https://localhost:8080/"
    },
    "colab_type": "code",
    "id": "5f1D3EqqIOlx",
    "outputId": "b1246422-d542-48f9-971c-def603282ca5"
   },
   "outputs": [
    {
     "name": "stdout",
     "output_type": "stream",
     "text": [
      "MSE: : 81.22154424300433\n",
      "R2: : 0.5268984503403831\n",
      "The F test statistic is 0.787278540774988 and the corresponding p-value is 0.8535538379870438.\n",
      "Since this p-value is bigger than 0.05, we would excapt the null hypothesis.\n",
      "\n"
     ]
    }
   ],
   "source": [
    "pred = ridge.predict(X_test)\n",
    "param = show_regression_result(y_test, pred, \n",
    "                               len(X_train.columns))"
   ]
  },
  {
   "cell_type": "code",
   "execution_count": 36,
   "metadata": {},
   "outputs": [
    {
     "name": "stdout",
     "output_type": "stream",
     "text": [
      "regular regression 17.834180476563372 ridge 17.834257093768795\n",
      "regular regression 18.439071799110007 ridge 18.43903702027458\n",
      "regular regression 20.916929343627757 ridge 20.91698601048308\n",
      "regular regression 25.189960231456055 ridge 25.19018672954303\n",
      "regular regression 22.226136132097324 ridge 22.226289084824142\n",
      "regular regression 1.3005892555758614 ridge 1.300519366519925\n",
      "regular regression 14.330760809674931 ridge 14.330783341977831\n",
      "regular regression 17.538815229130993 ridge 17.538800078028927\n",
      "regular regression 21.84197096682711 ridge 21.8422459749161\n",
      "regular regression 20.861882183344942 ridge 20.861955168219307\n",
      "regular regression 26.986939332259386 ridge 26.986597259469317\n",
      "regular regression 18.197598878427694 ridge 18.19766778569043\n",
      "regular regression 25.935944537625947 ridge 25.93573144047785\n",
      "regular regression 11.873229992517512 ridge 11.873111670320672\n",
      "regular regression 16.79391367403452 ridge 16.793992970324872\n",
      "regular regression 22.89299707009175 ridge 22.892856775313813\n",
      "regular regression 16.64437397578558 ridge 16.644196979925088\n",
      "regular regression 20.844953750798044 ridge 20.84487708188448\n",
      "regular regression 21.649230977564862 ridge 21.64938280848751\n",
      "regular regression 21.802125471909772 ridge 21.80196882697776\n",
      "regular regression 16.608566904695074 ridge 16.608578079569153\n",
      "regular regression 20.34091525218349 ridge 20.34080066400578\n",
      "regular regression 22.8668180965623 ridge 22.866856942803356\n",
      "regular regression 17.15785656075015 ridge 17.157834378747022\n",
      "regular regression 18.7287471458221 ridge 18.72892056765827\n",
      "regular regression 18.439695604753705 ridge 18.439712828014788\n",
      "regular regression 18.174614334360523 ridge 18.174676541706585\n",
      "regular regression 39.5997009602152 ridge 39.59955129433291\n",
      "regular regression 33.640833254896506 ridge 33.64080888089211\n",
      "regular regression 18.3115458193496 ridge 18.311475179348033\n",
      "regular regression 17.40457033863619 ridge 17.404540224225794\n",
      "regular regression 15.497492455220312 ridge 15.497580198836058\n",
      "regular regression 17.5229273954327 ridge 17.52317415890455\n",
      "regular regression 21.63405961378228 ridge 21.634080089211313\n",
      "regular regression 7.119341109693597 ridge 7.119168539111559\n",
      "regular regression 19.570614796116807 ridge 19.57076856145769\n",
      "regular regression 25.706032975437733 ridge 25.706040444527144\n",
      "regular regression 28.79436147144546 ridge 28.794111370146712\n",
      "regular regression 16.998422734337158 ridge 16.998480895211703\n",
      "regular regression 25.126872183799666 ridge 25.12703113803021\n",
      "regular regression 17.645132220390767 ridge 17.645233816416614\n",
      "regular regression 20.10509750271707 ridge 20.105259897378144\n",
      "regular regression 19.032059433298077 ridge 19.031972945862375\n",
      "regular regression 16.13023473806647 ridge 16.130684493412808\n",
      "regular regression 17.86422383692248 ridge 17.86433880623644\n",
      "regular regression 17.499767526516777 ridge 17.499766862829443\n",
      "regular regression 21.297348039054437 ridge 21.297592855103996\n",
      "regular regression 15.780535274668079 ridge 15.780562721739368\n",
      "regular regression 23.599703439073004 ridge 23.599659007752013\n",
      "regular regression 7.020039494761765 ridge 7.01996609568403\n",
      "regular regression 17.204326815846354 ridge 17.20445334331231\n",
      "regular regression 20.34581670735591 ridge 20.345841178182432\n",
      "regular regression 11.851856066295117 ridge 11.852001217361252\n",
      "regular regression 21.474485045910225 ridge 21.47444057343112\n",
      "regular regression 17.859529495088 ridge 17.859666403658878\n",
      "regular regression 19.388304169432654 ridge 19.38836786764279\n",
      "regular regression 15.201118239128252 ridge 15.200972460504044\n",
      "regular regression 17.525901827493865 ridge 17.525875312421896\n",
      "regular regression 11.201491402218675 ridge 11.201510025092407\n",
      "regular regression 14.799427898189993 ridge 14.799298536688074\n",
      "regular regression 18.062964318399153 ridge 18.063080116131687\n",
      "regular regression 16.929005547491048 ridge 16.92901019770466\n",
      "regular regression 19.768262095217942 ridge 19.768267856545116\n",
      "regular regression 21.52282636075203 ridge 21.522984812790305\n",
      "regular regression 17.588474456549093 ridge 17.58852853207377\n",
      "regular regression 16.01464306275584 ridge 16.014576130900938\n",
      "regular regression 17.829033362789385 ridge 17.82937856766343\n",
      "regular regression 15.522839388400758 ridge 15.522938525940514\n",
      "regular regression 22.375886712183092 ridge 22.37587517072434\n",
      "regular regression 30.62048201477393 ridge 30.619963989389507\n",
      "regular regression 18.93987482073095 ridge 18.93997203567301\n",
      "regular regression 23.77378266361183 ridge 23.773905505845992\n",
      "regular regression 15.171409545036287 ridge 15.171480859668076\n",
      "regular regression 24.636756069140876 ridge 24.63656634770891\n",
      "regular regression 17.374814843044124 ridge 17.374631980035954\n",
      "regular regression 17.719245616432016 ridge 17.719406396516586\n",
      "regular regression 34.830170336479114 ridge 34.83017721793644\n",
      "regular regression 13.555889239594936 ridge 13.55588979296547\n",
      "regular regression 13.592354611509638 ridge 13.592362478625793\n",
      "regular regression 12.316843026378546 ridge 12.316893777087937\n",
      "regular regression 20.525810587482415 ridge 20.52566703645994\n",
      "regular regression 12.817543957037099 ridge 12.817591626530906\n",
      "regular regression 18.746682202789685 ridge 18.746747994256125\n",
      "regular regression 16.66175064774037 ridge 16.661964930387175\n",
      "regular regression 27.907917287430227 ridge 27.907973493255913\n",
      "regular regression 18.93110524341518 ridge 18.931110053808478\n",
      "regular regression 13.847891784229024 ridge 13.847916063845862\n",
      "regular regression 20.806261568773227 ridge 20.806334410816017\n",
      "regular regression 22.437014784475526 ridge 22.43690771465788\n",
      "regular regression 17.09548408991242 ridge 17.095539727724216\n",
      "regular regression 16.43356634391567 ridge 16.433586797648058\n",
      "regular regression 19.116593813106302 ridge 19.11650092740763\n",
      "regular regression 19.12394191609241 ridge 19.12410987320286\n",
      "regular regression 13.59940735516889 ridge 13.599607999104133\n",
      "regular regression 24.921653119983784 ridge 24.912017267322252\n",
      "regular regression 16.345425386991625 ridge 16.34545972947853\n",
      "regular regression 47.384201158977675 ridge 47.384166818075144\n",
      "regular regression 17.071096784301325 ridge 17.071197577162074\n",
      "regular regression 19.59391784911174 ridge 19.59389184345421\n",
      "regular regression 28.115917503670477 ridge 28.115668551612547\n"
     ]
    }
   ],
   "source": [
    "#Compare result of ridge to regular\n",
    "for p1, p2 in zip(pred, regression_predictions):\n",
    "    print(f'regular regression {p2[0]} ridge {p1[0]}', end='\\n')"
   ]
  },
  {
   "cell_type": "markdown",
   "metadata": {
    "colab_type": "text",
    "id": "7kGD-PC8ImNH"
   },
   "source": [
    "# d. Repeat the previous step with Lasso regularization of lambda = 0.01.\n",
    "\n",
    "![](https://res.cloudinary.com/dyd911kmh/image/upload/f_auto,q_auto:best/v1543418448/eq11_ij4mms.png)"
   ]
  },
  {
   "cell_type": "code",
   "execution_count": 37,
   "metadata": {
    "colab": {
     "base_uri": "https://localhost:8080/"
    },
    "colab_type": "code",
    "id": "a9Y77JK0Mo8P",
    "outputId": "1d9558fb-5f1a-4ad6-a538-ed3434a6f354"
   },
   "outputs": [
    {
     "name": "stdout",
     "output_type": "stream",
     "text": [
      "Feature 0, weight: 0.06462510761630555\n",
      "Feature 1, weight: -0.0007409484367774695\n",
      "Feature 2, weight: -0.04571414533129027\n",
      "Feature 3, weight: -0.08147460254703469\n",
      "Feature 4, weight: -0.02390984094531222\n",
      "Feature 5, weight: -0.07188680829920799\n",
      "Feature 6, weight: -0.010721648037664698\n",
      "Feature 7, weight: -0.05685608237349649\n",
      "Feature 8, weight: -0.045684325517092464\n",
      "Feature 9, weight: -2.118492998908693\n",
      "Feature 10, weight: -2.4268533382623665\n",
      "Feature 11, weight: 0.0\n",
      "Feature 12, weight: -0.0672708425338005\n",
      "Feature 13, weight: -0.050197585531190525\n",
      "Feature 14, weight: 0.03823504465721131\n",
      "Feature 15, weight: 0.0\n",
      "Feature 16, weight: -0.04356763554441839\n",
      "Feature 17, weight: -0.24688322558617445\n",
      "Feature 18, weight: 0.19357835025961861\n",
      "Feature 19, weight: -0.042220553784824186\n",
      "Feature 20, weight: -0.08365170495463675\n",
      "Feature 21, weight: -0.06869685570723348\n",
      "Feature 22, weight: -2.195980329306235\n",
      "Feature 23, weight: -2.1244377531981287\n",
      "Feature 24, weight: -0.10055416161199594\n",
      "Feature 25, weight: -0.01411001547775812\n",
      "Feature 26, weight: -0.013030037189231616\n",
      "Feature 27, weight: -1.251414938963383\n",
      "Feature 28, weight: 0.0\n",
      "Feature 29, weight: -0.15431212732242516\n",
      "Feature 30, weight: 0.006420619206676304\n",
      "Feature 31, weight: -0.05326238471837322\n",
      "Feature 32, weight: -0.05998706403259027\n",
      "Feature 33, weight: -0.059842101863014696\n",
      "Feature 34, weight: -0.18301084156347877\n",
      "Feature 35, weight: 0.001464879314333749\n",
      "Feature 36, weight: -0.12416642924834094\n",
      "Feature 37, weight: -0.2119535164149283\n",
      "Feature 38, weight: 0.0\n",
      "Feature 39, weight: -0.11410078986381295\n",
      "Feature 40, weight: -0.16867967335724326\n",
      "Feature 41, weight: -0.598411779788996\n",
      "Feature 42, weight: -0.8020851886002732\n",
      "Feature 43, weight: -0.3516452781823157\n",
      "Feature 44, weight: -0.00034122218538510963\n",
      "Feature 45, weight: 0.1976117859411768\n",
      "Feature 46, weight: -0.16182487019695\n",
      "Feature 47, weight: -2.3303995481638804\n",
      "Feature 48, weight: 0.12533520324435135\n",
      "Feature 49, weight: 0.006859400725349913\n",
      "Feature 50, weight: 0.02555617736237839\n",
      "Feature 51, weight: 2.0889257619598243\n",
      "Feature 52, weight: 0.14546807664270697\n",
      "Feature 53, weight: -0.16467611454525372\n",
      "Feature 54, weight: 0.05708094173240671\n",
      "Feature 55, weight: 0.020980980530618133\n",
      "Feature 56, weight: -0.040631628176348335\n",
      "Feature 57, weight: -1.096500779985666\n",
      "\n",
      "largest absolute weight coefficient 11: weight: 2.4268533382623665\n",
      "intercept: 18.94912903601585\n",
      "\n"
     ]
    }
   ],
   "source": [
    "from sklearn.linear_model import Lasso\n",
    "X_train, X_test, y_train, y_test = get_X_y_regression(split_data=True)\n",
    "\n",
    "alpha = 0.01\n",
    "lasso = Lasso(alpha=alpha).fit(X_train, y_train);\n",
    "find_model_weights(lasso)\n"
   ]
  },
  {
   "cell_type": "code",
   "execution_count": 38,
   "metadata": {
    "colab": {
     "base_uri": "https://localhost:8080/"
    },
    "colab_type": "code",
    "id": "ApGkwS7WMpAM",
    "outputId": "888b097c-c417-48b2-be91-ea538c433e58"
   },
   "outputs": [
    {
     "name": "stdout",
     "output_type": "stream",
     "text": [
      "MSE: : 25746.318176768622\n",
      "R2: : 0.003288236289855704\n",
      "The F test statistic is 0.0023321114279826497 and the corresponding p-value is 1.0.\n",
      "Since this p-value is bigger than 0.05, we would excapt the null hypothesis.\n",
      "\n"
     ]
    }
   ],
   "source": [
    "pred = lasso.predict(X_test)\n",
    "param = show_regression_result(y_test, pred, \n",
    "                               len(X_train.columns))"
   ]
  },
  {
   "cell_type": "code",
   "execution_count": 39,
   "metadata": {},
   "outputs": [
    {
     "name": "stdout",
     "output_type": "stream",
     "text": [
      "regular regression 17.834180476563372 lasso 18.083463932300116\n",
      "regular regression 18.439071799110007 lasso 18.981831500111177\n",
      "regular regression 20.916929343627757 lasso 21.537375837425916\n",
      "regular regression 25.189960231456055 lasso 25.177437804915453\n",
      "regular regression 22.226136132097324 lasso 22.707034673763168\n",
      "regular regression 1.3005892555758614 lasso 1.7758206776776326\n",
      "regular regression 14.330760809674931 lasso 14.369462278404807\n",
      "regular regression 17.538815229130993 lasso 17.69751876327276\n",
      "regular regression 21.84197096682711 lasso 22.26387809952524\n",
      "regular regression 20.861882183344942 lasso 19.402774636432195\n",
      "regular regression 26.986939332259386 lasso 24.877093501323916\n",
      "regular regression 18.197598878427694 lasso 18.283714652790955\n",
      "regular regression 25.935944537625947 lasso 22.194388905823544\n",
      "regular regression 11.873229992517512 lasso 12.047153869719885\n",
      "regular regression 16.79391367403452 lasso 16.85571298465508\n",
      "regular regression 22.89299707009175 lasso 22.844081091096193\n",
      "regular regression 16.64437397578558 lasso 16.528395173898115\n",
      "regular regression 20.844953750798044 lasso 20.755826607697156\n",
      "regular regression 21.649230977564862 lasso 21.333551239997483\n",
      "regular regression 21.802125471909772 lasso 21.30848703458421\n",
      "regular regression 16.608566904695074 lasso 16.598859527512456\n",
      "regular regression 20.34091525218349 lasso 20.85506312729211\n",
      "regular regression 22.8668180965623 lasso 21.849591168226418\n",
      "regular regression 17.15785656075015 lasso 16.469039427850795\n",
      "regular regression 18.7287471458221 lasso 18.7033056243344\n",
      "regular regression 18.439695604753705 lasso 19.250264169625154\n",
      "regular regression 18.174614334360523 lasso 18.255439196587716\n",
      "regular regression 39.5997009602152 lasso 38.512607610724785\n",
      "regular regression 33.640833254896506 lasso 35.06363803691596\n",
      "regular regression 18.3115458193496 lasso 18.25304759627961\n",
      "regular regression 17.40457033863619 lasso 17.888814521455473\n",
      "regular regression 15.497492455220312 lasso 15.40391532108169\n",
      "regular regression 17.5229273954327 lasso 17.721631083230744\n",
      "regular regression 21.63405961378228 lasso 21.757531681555914\n",
      "regular regression 7.119341109693597 lasso 7.691300238281389\n",
      "regular regression 19.570614796116807 lasso 19.689689896874683\n",
      "regular regression 25.706032975437733 lasso 26.40695332972069\n",
      "regular regression 28.79436147144546 lasso 25.05972527416085\n",
      "regular regression 16.998422734337158 lasso 16.341790152539073\n",
      "regular regression 25.126872183799666 lasso 25.632230770837246\n",
      "regular regression 17.645132220390767 lasso 17.93255534240288\n",
      "regular regression 20.10509750271707 lasso 20.54555233291972\n",
      "regular regression 19.032059433298077 lasso 19.379385815097145\n",
      "regular regression 16.13023473806647 lasso 17.30038884726629\n",
      "regular regression 17.86422383692248 lasso 18.077319166503443\n",
      "regular regression 17.499767526516777 lasso 17.44016882852068\n",
      "regular regression 21.297348039054437 lasso 20.978964575851688\n",
      "regular regression 15.780535274668079 lasso 15.752492121510816\n",
      "regular regression 23.599703439073004 lasso 22.66221435527056\n",
      "regular regression 7.020039494761765 lasso 9.662090885331711\n",
      "regular regression 17.204326815846354 lasso 17.249250168149214\n",
      "regular regression 20.34581670735591 lasso 21.082529344281102\n",
      "regular regression 11.851856066295117 lasso 12.665077639796284\n",
      "regular regression 21.474485045910225 lasso 21.42038637817203\n",
      "regular regression 17.859529495088 lasso 18.207829118496548\n",
      "regular regression 19.388304169432654 lasso 19.177742562941052\n",
      "regular regression 15.201118239128252 lasso 14.54223422477094\n",
      "regular regression 17.525901827493865 lasso 17.636008391410275\n",
      "regular regression 11.201491402218675 lasso 11.648987144058653\n",
      "regular regression 14.799427898189993 lasso 15.363751678125784\n",
      "regular regression 18.062964318399153 lasso 18.50109797072118\n",
      "regular regression 16.929005547491048 lasso 16.93082418231696\n",
      "regular regression 19.768262095217942 lasso 19.289041582739017\n",
      "regular regression 21.52282636075203 lasso 21.847041523231777\n",
      "regular regression 17.588474456549093 lasso 17.468645870329187\n",
      "regular regression 16.01464306275584 lasso 15.181412853241032\n",
      "regular regression 17.829033362789385 lasso 19.641416573189016\n",
      "regular regression 15.522839388400758 lasso 14.950440565451846\n",
      "regular regression 22.375886712183092 lasso 21.771568290910377\n",
      "regular regression 30.62048201477393 lasso 26.957578168779396\n",
      "regular regression 18.93987482073095 lasso 18.664431430504365\n",
      "regular regression 23.77378266361183 lasso 23.085242333799723\n",
      "regular regression 15.171409545036287 lasso 14.828878196612944\n",
      "regular regression 24.636756069140876 lasso 24.399740489194063\n",
      "regular regression 17.374814843044124 lasso 17.908979934906053\n",
      "regular regression 17.719245616432016 lasso 17.898067951631823\n",
      "regular regression 34.830170336479114 lasso 35.949407559909545\n",
      "regular regression 13.555889239594936 lasso 13.601914343898965\n",
      "regular regression 13.592354611509638 lasso 13.35565851862814\n",
      "regular regression 12.316843026378546 lasso 12.485559446437474\n",
      "regular regression 20.525810587482415 lasso 20.05903478568035\n",
      "regular regression 12.817543957037099 lasso 12.165349615460862\n",
      "regular regression 18.746682202789685 lasso 18.44039504690631\n",
      "regular regression 16.66175064774037 lasso 16.379224889416726\n",
      "regular regression 27.907917287430227 lasso 27.326100047867744\n",
      "regular regression 18.93110524341518 lasso 18.336465385248417\n",
      "regular regression 13.847891784229024 lasso 13.259563528569851\n",
      "regular regression 20.806261568773227 lasso 21.08426025102978\n",
      "regular regression 22.437014784475526 lasso 21.084196803928915\n",
      "regular regression 17.09548408991242 lasso 17.615423480256336\n",
      "regular regression 16.43356634391567 lasso 16.83269171903099\n",
      "regular regression 19.116593813106302 lasso 19.13559208994597\n",
      "regular regression 19.12394191609241 lasso 19.58608566838411\n",
      "regular regression 13.59940735516889 lasso 12.856602538254453\n",
      "regular regression 24.921653119983784 lasso 21.201635590060132\n",
      "regular regression 16.345425386991625 lasso 16.56577078257299\n",
      "regular regression 47.384201158977675 lasso 47.46497182936673\n",
      "regular regression 17.071096784301325 lasso 16.98016084389974\n",
      "regular regression 19.59391784911174 lasso 19.336975445442384\n",
      "regular regression 28.115917503670477 lasso 30.6821947819862\n"
     ]
    }
   ],
   "source": [
    "#Compare result of lasso to regular\n",
    "for p1, p2 in zip(pred, regression_predictions):\n",
    "    print(f'regular regression {p2[0]} lasso {p1}', end='\\n')"
   ]
  },
  {
   "cell_type": "markdown",
   "metadata": {
    "colab_type": "text",
    "id": "CUIv50R3MoBT"
   },
   "source": [
    "# e. Split the data into 80:10:10 of Train:Test:val and Construct a linear regression model on the train."
   ]
  },
  {
   "cell_type": "code",
   "execution_count": 40,
   "metadata": {
    "colab": {
     "base_uri": "https://localhost:8080/"
    },
    "colab_type": "code",
    "id": "MHfRP0gFQPkW",
    "outputId": "b9b9b230-000d-421f-81fe-1c0022293520"
   },
   "outputs": [
    {
     "name": "stdout",
     "output_type": "stream",
     "text": [
      "Train: 800 records\n",
      "test: 100 records\n",
      "validation: 100 records\n"
     ]
    }
   ],
   "source": [
    "X, y =get_X_y_regression()\n",
    "X_train, X_split, y_train, y_split = train_test_split(X, y, test_size=0.20, random_state=42) #80% for train data set\n",
    "X_test, X_val, y_test, y_val =  train_test_split(X_split, y_split, test_size=0.50, random_state=42) #10% for test data set and 10% for validation\n",
    "print(f'Train: {len(X_train)} records\\ntest: {len(X_test)} records\\nvalidation: {len(X_val)} records')"
   ]
  },
  {
   "cell_type": "markdown",
   "metadata": {
    "colab_type": "text",
    "id": "WXNW1jaQQRSz"
   },
   "source": [
    "# e. Construct 5 Models with Ridge regression 𝜆∈{10−𝑚:𝑚=1,…,5}. Evaluate each model on the Validition set and choose the best model. Evaluate the final model on the Test set."
   ]
  },
  {
   "cell_type": "code",
   "execution_count": 51,
   "metadata": {
    "colab": {},
    "colab_type": "code",
    "id": "RIuOuuy7QSWG"
   },
   "outputs": [],
   "source": [
    "def find_best_model(models):\n",
    "    best_mse = -np.inf\n",
    "    \n",
    "    print('\\n'*3, '_'*10)\n",
    "    print('summary ')\n",
    "    index = np.argmin([models[i]['mse'] for i in range(len(models))])\n",
    "\n",
    "    for i in range(len(models)):\n",
    "        if i == index:\n",
    "            model = models[i]['model']\n",
    "            print('best score', end='-> ')\n",
    "        t = models[i]['mse']\n",
    "        print(f'model {i+1} mse {t}' )\n",
    "       \n",
    "    return model\n",
    "\n",
    "    \n",
    "def lets_have_some_validition(model, alphas):\n",
    "    models={}\n",
    "    for i, alpha in enumerate(alphas):\n",
    "        print(f'Alpha: {alpha}')\n",
    "        m = model(alpha=alpha).fit(X_train, y_train)\n",
    "        pred = m.predict(X_val)\n",
    "        _, mse, _, _ = show_regression_result(y_val, pred, \n",
    "                                              len(X_train.columns)) #evaluate on validition dataset\n",
    "        models[i] = {\n",
    "            'mse': mse,\n",
    "            'model': m\n",
    "        }\n",
    "    return find_best_model(models)\n",
    "    "
   ]
  },
  {
   "cell_type": "markdown",
   "metadata": {},
   "source": [
    "# Evaluate each model on the Validition set"
   ]
  },
  {
   "cell_type": "code",
   "execution_count": 52,
   "metadata": {
    "colab": {
     "base_uri": "https://localhost:8080/"
    },
    "colab_type": "code",
    "id": "LXjI_LbVQSYh",
    "outputId": "cc63f8de-c74f-4340-f309-8f8e19fafcba"
   },
   "outputs": [
    {
     "name": "stdout",
     "output_type": "stream",
     "text": [
      "Alpha: 0.1\n",
      "MSE: : 82.88951228592161\n",
      "R2: : 0.5496593330888258\n",
      "The F test statistic is 0.8627963578073192 and the corresponding p-value is 0.7436945960775587.\n",
      "Since this p-value is bigger than 0.05, we would excapt the null hypothesis.\n",
      "\n",
      "Alpha: 0.01\n",
      "MSE: : 82.9073579317355\n",
      "R2: : 0.5496457557866435\n",
      "The F test statistic is 0.8627490346273119 and the corresponding p-value is 0.7437708985573155.\n",
      "Since this p-value is bigger than 0.05, we would excapt the null hypothesis.\n",
      "\n",
      "Alpha: 0.001\n",
      "MSE: : 82.90922983736282\n",
      "R2: : 0.5496441749542056\n",
      "The F test statistic is 0.8627435248803053 and the corresponding p-value is 0.7437797818302458.\n",
      "Since this p-value is bigger than 0.05, we would excapt the null hypothesis.\n",
      "\n",
      "Alpha: 0.0001\n",
      "MSE: : 82.90941799024633\n",
      "R2: : 0.5496440144045917\n",
      "The F test statistic is 0.8627429653116166 and the corresponding p-value is 0.7437806840079009.\n",
      "Since this p-value is bigger than 0.05, we would excapt the null hypothesis.\n",
      "\n",
      "Alpha: 1e-05\n",
      "MSE: : 82.90943681525377\n",
      "R2: : 0.5496439983247053\n",
      "The F test statistic is 0.862742909267898 and the corresponding p-value is 0.7437807743656344.\n",
      "Since this p-value is bigger than 0.05, we would excapt the null hypothesis.\n",
      "\n",
      "\n",
      "\n",
      "\n",
      " __________\n",
      "summary \n",
      "best score-> model 1 mse 82.88951228592161\n",
      "model 2 mse 82.9073579317355\n",
      "model 3 mse 82.90922983736282\n",
      "model 4 mse 82.90941799024633\n",
      "model 5 mse 82.90943681525377\n"
     ]
    }
   ],
   "source": [
    "alphas = [pow(10, -i) for i in [1,2,3,4,5]]\n",
    "\n",
    "best_ridge = lets_have_some_validition(Ridge, alphas)"
   ]
  },
  {
   "cell_type": "markdown",
   "metadata": {},
   "source": [
    "# Evaluate the final model on the Test set"
   ]
  },
  {
   "cell_type": "code",
   "execution_count": 53,
   "metadata": {
    "colab": {
     "base_uri": "https://localhost:8080/"
    },
    "colab_type": "code",
    "id": "RpxAcaMfMEhP",
    "outputId": "0240a6ac-c636-41ea-cc55-0f643e0bbd5d"
   },
   "outputs": [
    {
     "name": "stdout",
     "output_type": "stream",
     "text": [
      "MSE: : 55.53037063000094\n",
      "R2: : 0.6272558549881265\n",
      "The F test statistic is 1.1895693248937773 and the corresponding p-value is 0.23746454602911837.\n",
      "Since this p-value is bigger than 0.05, we would excapt the null hypothesis.\n",
      "\n"
     ]
    }
   ],
   "source": [
    "pred = best_ridge.predict(X_test)\n",
    "param = show_regression_result(y_test, pred, \n",
    "                               len(X_train.columns))"
   ]
  },
  {
   "cell_type": "markdown",
   "metadata": {
    "colab_type": "text",
    "id": "CIpXz_jfLxhP"
   },
   "source": [
    "# f. Construct 5 Models with Lasso regression 𝜆∈{10−𝑚:𝑚=1,…,5}. Evaluate each model on the Validition set and choose the best model. Evaluate the final model on the Test set."
   ]
  },
  {
   "cell_type": "markdown",
   "metadata": {},
   "source": [
    "# Evaluate each model on the Validition set"
   ]
  },
  {
   "cell_type": "code",
   "execution_count": 54,
   "metadata": {
    "colab": {
     "base_uri": "https://localhost:8080/"
    },
    "colab_type": "code",
    "id": "JCQMThv9QSAj",
    "outputId": "e6829d49-4a9f-4c22-c09a-1a0e1c489267"
   },
   "outputs": [
    {
     "name": "stdout",
     "output_type": "stream",
     "text": [
      "Alpha: 0.1\n",
      "MSE: : 25297.24192300971\n",
      "R2: : 0.003483758038700079\n",
      "The F test statistic is 0.0024712658368231293 and the corresponding p-value is 1.0.\n",
      "Since this p-value is bigger than 0.05, we would excapt the null hypothesis.\n",
      "\n",
      "Alpha: 0.01\n",
      "MSE: : 25923.635943593115\n",
      "R2: : 0.00364431942256231\n",
      "The F test statistic is 0.00258557951082046 and the corresponding p-value is 1.0.\n",
      "Since this p-value is bigger than 0.05, we would excapt the null hypothesis.\n",
      "\n",
      "Alpha: 0.001\n",
      "MSE: : 26046.539679878362\n",
      "R2: : 0.0036752604738225603\n",
      "The F test statistic is 0.002607612611194152 and the corresponding p-value is 1.0.\n",
      "Since this p-value is bigger than 0.05, we would excapt the null hypothesis.\n",
      "\n",
      "Alpha: 0.0001\n",
      "MSE: : 26061.440443233536\n",
      "R2: : 0.0036789067966582927\n",
      "The F test statistic is 0.002610209245205127 and the corresponding p-value is 1.0.\n",
      "Since this p-value is bigger than 0.05, we would excapt the null hypothesis.\n",
      "\n",
      "Alpha: 1e-05\n",
      "MSE: : 26063.192433450957\n",
      "R2: : 0.003679285632533461\n",
      "The F test statistic is 0.002610479024414626 and the corresponding p-value is 1.0.\n",
      "Since this p-value is bigger than 0.05, we would excapt the null hypothesis.\n",
      "\n",
      "\n",
      "\n",
      "\n",
      " __________\n",
      "summary \n",
      "best score-> model 1 mse 25297.24192300971\n",
      "model 2 mse 25923.635943593115\n",
      "model 3 mse 26046.539679878362\n",
      "model 4 mse 26061.440443233536\n",
      "model 5 mse 26063.192433450957\n"
     ]
    }
   ],
   "source": [
    "best_lasso = lets_have_some_validition(Lasso, alphas)"
   ]
  },
  {
   "cell_type": "markdown",
   "metadata": {},
   "source": [
    "# Evaluate the final model on the Test set"
   ]
  },
  {
   "cell_type": "code",
   "execution_count": 45,
   "metadata": {
    "colab": {},
    "colab_type": "code",
    "id": "wFE_EUqbQQxx"
   },
   "outputs": [
    {
     "name": "stdout",
     "output_type": "stream",
     "text": [
      "MSE: : 19281.3789010371\n",
      "R2: : 0.0040952453721771155\n",
      "The F test statistic is 0.002906818968986736 and the corresponding p-value is 1.0.\n",
      "Since this p-value is bigger than 0.05, we would excapt the null hypothesis.\n",
      "\n"
     ]
    }
   ],
   "source": [
    "pred = best_lasso.predict(X_test)\n",
    "param = show_regression_result(y_test, pred,\n",
    "                              len(X_train.columns))"
   ]
  }
 ],
 "metadata": {
  "colab": {
   "collapsed_sections": [],
   "name": "First task ML.ipynb",
   "provenance": []
  },
  "kernelspec": {
   "display_name": "Python 3",
   "language": "python",
   "name": "python3"
  },
  "language_info": {
   "codemirror_mode": {
    "name": "ipython",
    "version": 3
   },
   "file_extension": ".py",
   "mimetype": "text/x-python",
   "name": "python",
   "nbconvert_exporter": "python",
   "pygments_lexer": "ipython3",
   "version": "3.7.7"
  }
 },
 "nbformat": 4,
 "nbformat_minor": 1
}
